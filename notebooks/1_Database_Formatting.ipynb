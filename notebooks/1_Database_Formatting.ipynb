{
  "nbformat": 4,
  "nbformat_minor": 0,
  "metadata": {
    "colab": {
      "provenance": [],
      "authorship_tag": "ABX9TyNPgtqr8dxcjL7UYTKs3xV8",
      "include_colab_link": true
    },
    "kernelspec": {
      "name": "python3",
      "display_name": "Python 3"
    },
    "language_info": {
      "name": "python"
    }
  },
  "cells": [
    {
      "cell_type": "markdown",
      "metadata": {
        "id": "view-in-github",
        "colab_type": "text"
      },
      "source": [
        "<a href=\"https://colab.research.google.com/github/douglasmmachado/MedicineConsumption/blob/main/notebooks/1_Database_Formatting.ipynb\" target=\"_parent\"><img src=\"https://colab.research.google.com/assets/colab-badge.svg\" alt=\"Open In Colab\"/></a>"
      ]
    },
    {
      "cell_type": "markdown",
      "source": [
        "# 1 - Data insconsistance handling and creation of unified database and divided database\n",
        "---\n",
        "\n",
        "\n",
        "\n",
        "---\n",
        "\n"
      ],
      "metadata": {
        "id": "kjsqMTZXocX6"
      }
    },
    {
      "cell_type": "markdown",
      "source": [
        "# Loading libs and database"
      ],
      "metadata": {
        "id": "1OsMzVJ_pr2S"
      }
    },
    {
      "cell_type": "code",
      "execution_count": 1,
      "metadata": {
        "colab": {
          "base_uri": "https://localhost:8080/"
        },
        "id": "dowz2XonTLNo",
        "outputId": "fc3f0c94-c0f1-45a1-9aa3-495b93c5c13d"
      },
      "outputs": [
        {
          "output_type": "stream",
          "name": "stdout",
          "text": [
            "<class 'pandas.core.frame.DataFrame'>\n",
            "Int64Index: 75692 entries, 0 to 75691\n",
            "Data columns (total 21 columns):\n",
            " #   Column            Non-Null Count  Dtype  \n",
            "---  ------            --------------  -----  \n",
            " 0   ID_REF            75689 non-null  object \n",
            " 1   ID_SITE_RATTACHE  75690 non-null  object \n",
            " 2   CODE_ATC          75685 non-null  object \n",
            " 3   HOSPI_CODE_UCD    75690 non-null  object \n",
            " 4   DATE_MOUV         75685 non-null  object \n",
            " 5   N_UFS             75692 non-null  int64  \n",
            " 6   QUANTITY          75685 non-null  float64\n",
            " 7   WEEK              75685 non-null  float64\n",
            " 8   MONTH             75692 non-null  int64  \n",
            " 9   YEAR              75685 non-null  float64\n",
            " 10  N_ETB             75692 non-null  int64  \n",
            " 11  POPULATION        75692 non-null  float64\n",
            " 12  P_MEDICAL         75692 non-null  int64  \n",
            " 13  PN_MEDICAL        75692 non-null  int64  \n",
            " 14  LIT_HC            75685 non-null  float64\n",
            " 15  LIT_HP            75692 non-null  float64\n",
            " 16  SEJ_MCO           75692 non-null  int64  \n",
            " 17  SEJ_HAD           75692 non-null  int64  \n",
            " 18  SEJ_PSY           75692 non-null  int64  \n",
            " 19  SEJ_SSR           75692 non-null  int64  \n",
            " 20  SEJ_SLD           75692 non-null  int64  \n",
            "dtypes: float64(6), int64(10), object(5)\n",
            "memory usage: 12.7+ MB\n"
          ]
        },
        {
          "output_type": "stream",
          "name": "stderr",
          "text": [
            "<ipython-input-1-3cd455e0ac41>:9: DtypeWarning: Columns (1,4) have mixed types. Specify dtype option on import or set low_memory=False.\n",
            "  df = pd.read_csv(raw_data_url, index_col=0)\n"
          ]
        }
      ],
      "source": [
        "import pandas as pd\n",
        "import numpy as np\n",
        "import matplotlib.pyplot as plt\n",
        "from scipy import stats\n",
        "import seaborn as sns\n",
        "import math as m\n",
        "\n",
        "raw_data_url =\"https://raw.githubusercontent.com/douglasmmachado/ExploratoryDataAnalysis/main/datasets/project_database.csv\" # Raw database\n",
        "df = pd.read_csv(raw_data_url, index_col=0)\n",
        "\n",
        "categorical_features = ['ID_REF', 'ID_SITE_RATTACHE', 'CODE_ATC', 'HOSPI_CODE_UCD']\n",
        "date_features = ['DATE_MOUV', 'WEEK', 'MONTH', 'YEAR']\n",
        "numerical_features = ['N_UFS', 'QUANTITY', 'N_ETB', 'POPULATION', 'P_MEDICAL', 'PN_MEDICAL', 'LIT_HC', 'LIT_HP', 'SEJ_MCO', 'SEJ_HAD', 'SEJ_PSY', 'SEJ_SSR']\n",
        "\n",
        "df.info()"
      ]
    },
    {
      "cell_type": "markdown",
      "source": [
        "## 1.1 - Data cleaning and insconsistance handling"
      ],
      "metadata": {
        "id": "5m58T97apfkN"
      }
    },
    {
      "cell_type": "code",
      "source": [
        "N = len(df)\n",
        "\n",
        "df = df.drop_duplicates()\n",
        "df = df.dropna()\n",
        "\n",
        "df['DATE_MOUV'] = pd.to_datetime(df['DATE_MOUV'],\n",
        "               format='%Y-%m-%d')  # Changed the type of date too\n",
        "\n",
        "for column in categorical_features:\n",
        "  df[column] = df[column].astype('string')\n",
        "\n",
        "# Changing the date display by year-month division\n",
        "df['YEAR'] = df['DATE_MOUV'].dt.year\n",
        "df['MONTH'] = df['DATE_MOUV'].dt.month\n",
        "df['WEEK'] = df['DATE_MOUV'].dt.isocalendar().week\n",
        "\n",
        "N_new = len(df)\n",
        "\n",
        "print(f'Removed rows: {N - N_new}')\n",
        "print(f'Percentage: {(((N - N_new )/ N)*100):.3f}')\n",
        "df.info()"
      ],
      "metadata": {
        "colab": {
          "base_uri": "https://localhost:8080/"
        },
        "id": "cHvUaF4mot8J",
        "outputId": "f55146af-8b0b-463d-bfad-7f819532cf12"
      },
      "execution_count": null,
      "outputs": [
        {
          "output_type": "stream",
          "name": "stdout",
          "text": [
            "Removed rows: 8\n",
            "Percentage: 0.011\n",
            "<class 'pandas.core.frame.DataFrame'>\n",
            "Int64Index: 75684 entries, 0 to 75691\n",
            "Data columns (total 21 columns):\n",
            " #   Column            Non-Null Count  Dtype         \n",
            "---  ------            --------------  -----         \n",
            " 0   ID_REF            75684 non-null  string        \n",
            " 1   ID_SITE_RATTACHE  75684 non-null  string        \n",
            " 2   CODE_ATC          75684 non-null  string        \n",
            " 3   HOSPI_CODE_UCD    75684 non-null  string        \n",
            " 4   DATE_MOUV         75684 non-null  datetime64[ns]\n",
            " 5   N_UFS             75684 non-null  int64         \n",
            " 6   QUANTITY          75684 non-null  float64       \n",
            " 7   WEEK              75684 non-null  UInt32        \n",
            " 8   MONTH             75684 non-null  int64         \n",
            " 9   YEAR              75684 non-null  int64         \n",
            " 10  N_ETB             75684 non-null  int64         \n",
            " 11  POPULATION        75684 non-null  float64       \n",
            " 12  P_MEDICAL         75684 non-null  int64         \n",
            " 13  PN_MEDICAL        75684 non-null  int64         \n",
            " 14  LIT_HC            75684 non-null  float64       \n",
            " 15  LIT_HP            75684 non-null  float64       \n",
            " 16  SEJ_MCO           75684 non-null  int64         \n",
            " 17  SEJ_HAD           75684 non-null  int64         \n",
            " 18  SEJ_PSY           75684 non-null  int64         \n",
            " 19  SEJ_SSR           75684 non-null  int64         \n",
            " 20  SEJ_SLD           75684 non-null  int64         \n",
            "dtypes: UInt32(1), datetime64[ns](1), float64(4), int64(11), string(4)\n",
            "memory usage: 12.5 MB\n"
          ]
        }
      ]
    },
    {
      "cell_type": "markdown",
      "source": [
        "## 1.2 - Creation of divided database and unified database"
      ],
      "metadata": {
        "id": "xx0eL6l5p18i"
      }
    },
    {
      "cell_type": "code",
      "source": [
        "# Separating databases\n",
        "\n",
        "df_h1 = df[df[\"ID_SITE_RATTACHE\"] == \"HOSPI_1\"]\n",
        "df_h2 = df[df[\"ID_SITE_RATTACHE\"] == \"HOSPI_2\"]\n",
        "df_h3 = df[df[\"ID_SITE_RATTACHE\"] == \"HOSPI_3\"]\n",
        "df_h4 = df[df[\"ID_SITE_RATTACHE\"] == \"HOSPI_4\"]\n",
        "\n",
        "df_h1.to_csv('df_h1.csv',index=False)\n",
        "df_h2.to_csv('df_h2.csv',index=False)\n",
        "df_h3.to_csv('df_h3.csv',index=False)\n",
        "df_h4.to_csv('df_h4.csv',index=False)\n",
        "df.to_csv('df_unified.csv',index=False)\n"
      ],
      "metadata": {
        "id": "maWqKSDh4SiF"
      },
      "execution_count": null,
      "outputs": []
    }
  ]
}