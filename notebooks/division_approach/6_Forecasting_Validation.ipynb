{
  "nbformat": 4,
  "nbformat_minor": 0,
  "metadata": {
    "colab": {
      "provenance": [],
      "authorship_tag": "ABX9TyOTUorYANO4R7SNQ5HG8vYA",
      "include_colab_link": true
    },
    "kernelspec": {
      "name": "python3",
      "display_name": "Python 3"
    },
    "language_info": {
      "name": "python"
    }
  },
  "cells": [
    {
      "cell_type": "markdown",
      "metadata": {
        "id": "view-in-github",
        "colab_type": "text"
      },
      "source": [
        "<a href=\"https://colab.research.google.com/github/douglasmmachado/MedicineConsumption/blob/master/notebooks/division_approach/6_Forecasting_Validation.ipynb\" target=\"_parent\"><img src=\"https://colab.research.google.com/assets/colab-badge.svg\" alt=\"Open In Colab\"/></a>"
      ]
    },
    {
      "cell_type": "markdown",
      "source": [
        "# 5 - Forecasting and prediction"
      ],
      "metadata": {
        "id": "_jKlqIUfCkX4"
      }
    },
    {
      "cell_type": "markdown",
      "source": [
        "\n",
        "\n",
        "---\n",
        "\n",
        "\n",
        "\n",
        "---\n",
        "\n"
      ],
      "metadata": {
        "id": "3faZHM1dCq8g"
      }
    },
    {
      "cell_type": "code",
      "source": [
        "import pandas as pd\n",
        "import numpy as np\n",
        "import matplotlib.pyplot as plt\n",
        "from scipy import stats\n",
        "import seaborn as sns\n",
        "import math as m\n",
        "\n",
        "from sklearn.model_selection import train_test_split\n",
        "from sklearn.ensemble import RandomForestRegressor\n",
        "\n",
        "from sklearn.tree import export_graphviz\n",
        "from subprocess import call\n",
        "from IPython.display import Image\n",
        "\n",
        "\n",
        "from sklearn.metrics import r2_score, mean_absolute_error, mean_squared_error,  mean_absolute_percentage_error\n",
        "from sklearn.model_selection import RandomizedSearchCV\n",
        "\n",
        "from sklearn.preprocessing import StandardScaler\n",
        "\n",
        "from sklearn.utils import shuffle\n",
        "\n",
        "\n",
        "df_h1_url =\"https://raw.githubusercontent.com/douglasmmachado/ExploratoryDataAnalysis/master/datasets/division_approach/clustered/df_h1_clustered_9.csv\"\n",
        "df_h2_url =\"https://raw.githubusercontent.com/douglasmmachado/ExploratoryDataAnalysis/master/datasets/division_approach/clustered/df_h2_clustered_3.csv\"\n",
        "df_h3_url =\"https://raw.githubusercontent.com/douglasmmachado/ExploratoryDataAnalysis/master/datasets/division_approach/clustered/df_h3_clustered_8.csv\"\n",
        "df_h4_url =\"https://raw.githubusercontent.com/douglasmmachado/ExploratoryDataAnalysis/master/datasets/division_approach/clustered/df_h4_clustered_13.csv\"\n",
        "\n",
        "\n",
        "\n",
        "df_h1 = pd.read_csv(df_h1_url)\n",
        "df_h2 = pd.read_csv(df_h2_url)\n",
        "df_h3 = pd.read_csv(df_h3_url)\n",
        "df_h4 = pd.read_csv(df_h4_url)\n",
        "\n",
        "medicines = [3400892088310,3400892075761,3400892203645,\n",
        "             3400892065366,3400892052120,3400891996128,\n",
        "             3400893826706,3400893736135,3400893875490,\n",
        "             3400890837149,3400891235203,3400891225037,\n",
        "             3400891191226,3400892729589,3400892745848,\n",
        "             3400892697789,3400892761527,3400893022634,\n",
        "             3400892761695,3400892669236,3400892508566]\n",
        "\n",
        "numerical_features = ['HOSPI_CODE_UCD', 'LIT_HC', 'LIT_HP', 'N_ETB',\n",
        "'N_UFS', 'PN_MEDICAL', 'POPULATION',\n",
        "'P_MEDICAL', 'QUANTITY', 'QUANTITY_MA',\n",
        "'SEJ_HAD', 'SEJ_MCO', 'SEJ_PSY',\n",
        "'SEJ_SLD', 'SEJ_SSR', 'MONTH_1.0', 'MONTH_2.0', 'MONTH_3.0',\n",
        "                      'MONTH_4.0', 'MONTH_5.0', 'MONTH_6.0',\n",
        "                      'MONTH_7.0', 'MONTH_8.0', 'MONTH_9.0',\n",
        "                      'MONTH_10.0', 'MONTH_11.0', 'MONTH_12.0']"
      ],
      "metadata": {
        "id": "R41SXb4cCgUh"
      },
      "execution_count": 9,
      "outputs": []
    },
    {
      "cell_type": "code",
      "source": [
        "df_h1.info()"
      ],
      "metadata": {
        "id": "22Vq-PNUZDwu",
        "outputId": "c7063fa5-dc10-4c0f-fb99-db55126aeeb1",
        "colab": {
          "base_uri": "https://localhost:8080/"
        }
      },
      "execution_count": 2,
      "outputs": [
        {
          "output_type": "stream",
          "name": "stdout",
          "text": [
            "<class 'pandas.core.frame.DataFrame'>\n",
            "RangeIndex: 1208 entries, 0 to 1207\n",
            "Data columns (total 47 columns):\n",
            " #   Column             Non-Null Count  Dtype  \n",
            "---  ------             --------------  -----  \n",
            " 0   HOSPI_CODE_UCD     1208 non-null   int64  \n",
            " 1   LIT_HC             1208 non-null   float64\n",
            " 2   LIT_HP             1208 non-null   float64\n",
            " 3   N_UFS              1208 non-null   float64\n",
            " 4   PN_MEDICAL         1208 non-null   float64\n",
            " 5   POPULATION         1208 non-null   float64\n",
            " 6   P_MEDICAL          1208 non-null   float64\n",
            " 7   QUANTITY           1208 non-null   float64\n",
            " 8   QUANTITY_MA        1208 non-null   float64\n",
            " 9   SEJ_MCO            1208 non-null   float64\n",
            " 10  SEJ_SLD            1208 non-null   float64\n",
            " 11  SEJ_SSR            1208 non-null   float64\n",
            " 12  YEAR               1208 non-null   float64\n",
            " 13  MONTH_1.0          1208 non-null   int64  \n",
            " 14  MONTH_2.0          1208 non-null   int64  \n",
            " 15  MONTH_3.0          1208 non-null   int64  \n",
            " 16  MONTH_4.0          1208 non-null   int64  \n",
            " 17  MONTH_5.0          1208 non-null   int64  \n",
            " 18  MONTH_6.0          1208 non-null   int64  \n",
            " 19  MONTH_7.0          1208 non-null   int64  \n",
            " 20  MONTH_8.0          1208 non-null   int64  \n",
            " 21  MONTH_9.0          1208 non-null   int64  \n",
            " 22  MONTH_10.0         1208 non-null   int64  \n",
            " 23  MONTH_11.0         1208 non-null   int64  \n",
            " 24  MONTH_12.0         1208 non-null   int64  \n",
            " 25  UCD_3400890837149  1208 non-null   int64  \n",
            " 26  UCD_3400891191226  1208 non-null   int64  \n",
            " 27  UCD_3400891225037  1208 non-null   int64  \n",
            " 28  UCD_3400891235203  1208 non-null   int64  \n",
            " 29  UCD_3400891996128  1208 non-null   int64  \n",
            " 30  UCD_3400892052120  1208 non-null   int64  \n",
            " 31  UCD_3400892065366  1208 non-null   int64  \n",
            " 32  UCD_3400892075761  1208 non-null   int64  \n",
            " 33  UCD_3400892088310  1208 non-null   int64  \n",
            " 34  UCD_3400892203645  1208 non-null   int64  \n",
            " 35  UCD_3400892508566  1208 non-null   int64  \n",
            " 36  UCD_3400892669236  1208 non-null   int64  \n",
            " 37  UCD_3400892697789  1208 non-null   int64  \n",
            " 38  UCD_3400892729589  1208 non-null   int64  \n",
            " 39  UCD_3400892745848  1208 non-null   int64  \n",
            " 40  UCD_3400892761527  1208 non-null   int64  \n",
            " 41  UCD_3400892761695  1208 non-null   int64  \n",
            " 42  UCD_3400893022634  1208 non-null   int64  \n",
            " 43  UCD_3400893736135  1208 non-null   int64  \n",
            " 44  UCD_3400893826706  1208 non-null   int64  \n",
            " 45  UCD_3400893875490  1208 non-null   int64  \n",
            " 46  CLUSTER            1208 non-null   int64  \n",
            "dtypes: float64(12), int64(35)\n",
            "memory usage: 443.7 KB\n"
          ]
        }
      ]
    },
    {
      "cell_type": "code",
      "source": [
        "df_h2.info()"
      ],
      "metadata": {
        "id": "kQ3pF2FVZD4C",
        "outputId": "9d9e7572-462a-46a9-90fa-c286bc2bafe5",
        "colab": {
          "base_uri": "https://localhost:8080/"
        }
      },
      "execution_count": 3,
      "outputs": [
        {
          "output_type": "stream",
          "name": "stdout",
          "text": [
            "<class 'pandas.core.frame.DataFrame'>\n",
            "RangeIndex: 697 entries, 0 to 696\n",
            "Data columns (total 47 columns):\n",
            " #   Column             Non-Null Count  Dtype  \n",
            "---  ------             --------------  -----  \n",
            " 0   HOSPI_CODE_UCD     697 non-null    int64  \n",
            " 1   LIT_HC             697 non-null    float64\n",
            " 2   LIT_HP             697 non-null    float64\n",
            " 3   N_UFS              697 non-null    float64\n",
            " 4   PN_MEDICAL         697 non-null    float64\n",
            " 5   POPULATION         697 non-null    float64\n",
            " 6   P_MEDICAL          697 non-null    float64\n",
            " 7   QUANTITY           697 non-null    float64\n",
            " 8   QUANTITY_MA        697 non-null    float64\n",
            " 9   SEJ_MCO            697 non-null    float64\n",
            " 10  SEJ_PSY            697 non-null    float64\n",
            " 11  SEJ_SSR            697 non-null    float64\n",
            " 12  YEAR               697 non-null    float64\n",
            " 13  MONTH_1.0          697 non-null    int64  \n",
            " 14  MONTH_2.0          697 non-null    int64  \n",
            " 15  MONTH_3.0          697 non-null    int64  \n",
            " 16  MONTH_4.0          697 non-null    int64  \n",
            " 17  MONTH_5.0          697 non-null    int64  \n",
            " 18  MONTH_6.0          697 non-null    int64  \n",
            " 19  MONTH_7.0          697 non-null    int64  \n",
            " 20  MONTH_8.0          697 non-null    int64  \n",
            " 21  MONTH_9.0          697 non-null    int64  \n",
            " 22  MONTH_10.0         697 non-null    int64  \n",
            " 23  MONTH_11.0         697 non-null    int64  \n",
            " 24  MONTH_12.0         697 non-null    int64  \n",
            " 25  UCD_3400890837149  697 non-null    int64  \n",
            " 26  UCD_3400891191226  697 non-null    int64  \n",
            " 27  UCD_3400891225037  697 non-null    int64  \n",
            " 28  UCD_3400891235203  697 non-null    int64  \n",
            " 29  UCD_3400891996128  697 non-null    int64  \n",
            " 30  UCD_3400892052120  697 non-null    int64  \n",
            " 31  UCD_3400892065366  697 non-null    int64  \n",
            " 32  UCD_3400892075761  697 non-null    int64  \n",
            " 33  UCD_3400892088310  697 non-null    int64  \n",
            " 34  UCD_3400892203645  697 non-null    int64  \n",
            " 35  UCD_3400892508566  697 non-null    int64  \n",
            " 36  UCD_3400892669236  697 non-null    int64  \n",
            " 37  UCD_3400892697789  697 non-null    int64  \n",
            " 38  UCD_3400892729589  697 non-null    int64  \n",
            " 39  UCD_3400892745848  697 non-null    int64  \n",
            " 40  UCD_3400892761527  697 non-null    int64  \n",
            " 41  UCD_3400892761695  697 non-null    int64  \n",
            " 42  UCD_3400893022634  697 non-null    int64  \n",
            " 43  UCD_3400893736135  697 non-null    int64  \n",
            " 44  UCD_3400893826706  697 non-null    int64  \n",
            " 45  UCD_3400893875490  697 non-null    int64  \n",
            " 46  CLUSTER            697 non-null    int64  \n",
            "dtypes: float64(12), int64(35)\n",
            "memory usage: 256.1 KB\n"
          ]
        }
      ]
    },
    {
      "cell_type": "code",
      "source": [
        "df_h3.info()"
      ],
      "metadata": {
        "id": "UCFN6kgrZEAb",
        "outputId": "88f9be84-01d7-43d1-c98c-b6f7d12ba408",
        "colab": {
          "base_uri": "https://localhost:8080/"
        }
      },
      "execution_count": 4,
      "outputs": [
        {
          "output_type": "stream",
          "name": "stdout",
          "text": [
            "<class 'pandas.core.frame.DataFrame'>\n",
            "RangeIndex: 1397 entries, 0 to 1396\n",
            "Data columns (total 49 columns):\n",
            " #   Column             Non-Null Count  Dtype  \n",
            "---  ------             --------------  -----  \n",
            " 0   HOSPI_CODE_UCD     1397 non-null   int64  \n",
            " 1   LIT_HC             1397 non-null   float64\n",
            " 2   LIT_HP             1397 non-null   float64\n",
            " 3   N_UFS              1397 non-null   float64\n",
            " 4   PN_MEDICAL         1397 non-null   float64\n",
            " 5   POPULATION         1397 non-null   float64\n",
            " 6   P_MEDICAL          1397 non-null   float64\n",
            " 7   QUANTITY           1397 non-null   float64\n",
            " 8   QUANTITY_MA        1397 non-null   float64\n",
            " 9   SEJ_HAD            1397 non-null   float64\n",
            " 10  SEJ_MCO            1397 non-null   float64\n",
            " 11  SEJ_PSY            1397 non-null   float64\n",
            " 12  SEJ_SLD            1397 non-null   float64\n",
            " 13  SEJ_SSR            1397 non-null   float64\n",
            " 14  YEAR               1397 non-null   float64\n",
            " 15  MONTH_1.0          1397 non-null   int64  \n",
            " 16  MONTH_2.0          1397 non-null   int64  \n",
            " 17  MONTH_3.0          1397 non-null   int64  \n",
            " 18  MONTH_4.0          1397 non-null   int64  \n",
            " 19  MONTH_5.0          1397 non-null   int64  \n",
            " 20  MONTH_6.0          1397 non-null   int64  \n",
            " 21  MONTH_7.0          1397 non-null   int64  \n",
            " 22  MONTH_8.0          1397 non-null   int64  \n",
            " 23  MONTH_9.0          1397 non-null   int64  \n",
            " 24  MONTH_10.0         1397 non-null   int64  \n",
            " 25  MONTH_11.0         1397 non-null   int64  \n",
            " 26  MONTH_12.0         1397 non-null   int64  \n",
            " 27  UCD_3400890837149  1397 non-null   int64  \n",
            " 28  UCD_3400891191226  1397 non-null   int64  \n",
            " 29  UCD_3400891225037  1397 non-null   int64  \n",
            " 30  UCD_3400891235203  1397 non-null   int64  \n",
            " 31  UCD_3400891996128  1397 non-null   int64  \n",
            " 32  UCD_3400892052120  1397 non-null   int64  \n",
            " 33  UCD_3400892065366  1397 non-null   int64  \n",
            " 34  UCD_3400892075761  1397 non-null   int64  \n",
            " 35  UCD_3400892088310  1397 non-null   int64  \n",
            " 36  UCD_3400892203645  1397 non-null   int64  \n",
            " 37  UCD_3400892508566  1397 non-null   int64  \n",
            " 38  UCD_3400892669236  1397 non-null   int64  \n",
            " 39  UCD_3400892697789  1397 non-null   int64  \n",
            " 40  UCD_3400892729589  1397 non-null   int64  \n",
            " 41  UCD_3400892745848  1397 non-null   int64  \n",
            " 42  UCD_3400892761527  1397 non-null   int64  \n",
            " 43  UCD_3400892761695  1397 non-null   int64  \n",
            " 44  UCD_3400893022634  1397 non-null   int64  \n",
            " 45  UCD_3400893736135  1397 non-null   int64  \n",
            " 46  UCD_3400893826706  1397 non-null   int64  \n",
            " 47  UCD_3400893875490  1397 non-null   int64  \n",
            " 48  CLUSTER            1397 non-null   int64  \n",
            "dtypes: float64(14), int64(35)\n",
            "memory usage: 534.9 KB\n"
          ]
        }
      ]
    },
    {
      "cell_type": "code",
      "source": [
        "df_h4.info()"
      ],
      "metadata": {
        "id": "4q2znIq6ZEJs",
        "outputId": "b2469d38-5da8-49ac-da63-ca46e706b921",
        "colab": {
          "base_uri": "https://localhost:8080/"
        }
      },
      "execution_count": 5,
      "outputs": [
        {
          "output_type": "stream",
          "name": "stdout",
          "text": [
            "<class 'pandas.core.frame.DataFrame'>\n",
            "RangeIndex: 770 entries, 0 to 769\n",
            "Data columns (total 48 columns):\n",
            " #   Column             Non-Null Count  Dtype  \n",
            "---  ------             --------------  -----  \n",
            " 0   HOSPI_CODE_UCD     770 non-null    int64  \n",
            " 1   LIT_HC             770 non-null    float64\n",
            " 2   LIT_HP             770 non-null    float64\n",
            " 3   N_UFS              770 non-null    float64\n",
            " 4   PN_MEDICAL         770 non-null    float64\n",
            " 5   POPULATION         770 non-null    float64\n",
            " 6   P_MEDICAL          770 non-null    float64\n",
            " 7   QUANTITY           770 non-null    float64\n",
            " 8   QUANTITY_MA        770 non-null    float64\n",
            " 9   SEJ_MCO            770 non-null    float64\n",
            " 10  SEJ_PSY            770 non-null    float64\n",
            " 11  SEJ_SLD            770 non-null    float64\n",
            " 12  SEJ_SSR            770 non-null    float64\n",
            " 13  YEAR               770 non-null    float64\n",
            " 14  MONTH_1.0          770 non-null    int64  \n",
            " 15  MONTH_2.0          770 non-null    int64  \n",
            " 16  MONTH_3.0          770 non-null    int64  \n",
            " 17  MONTH_4.0          770 non-null    int64  \n",
            " 18  MONTH_5.0          770 non-null    int64  \n",
            " 19  MONTH_6.0          770 non-null    int64  \n",
            " 20  MONTH_7.0          770 non-null    int64  \n",
            " 21  MONTH_8.0          770 non-null    int64  \n",
            " 22  MONTH_9.0          770 non-null    int64  \n",
            " 23  MONTH_10.0         770 non-null    int64  \n",
            " 24  MONTH_11.0         770 non-null    int64  \n",
            " 25  MONTH_12.0         770 non-null    int64  \n",
            " 26  UCD_3400890837149  770 non-null    int64  \n",
            " 27  UCD_3400891191226  770 non-null    int64  \n",
            " 28  UCD_3400891225037  770 non-null    int64  \n",
            " 29  UCD_3400891235203  770 non-null    int64  \n",
            " 30  UCD_3400891996128  770 non-null    int64  \n",
            " 31  UCD_3400892052120  770 non-null    int64  \n",
            " 32  UCD_3400892065366  770 non-null    int64  \n",
            " 33  UCD_3400892075761  770 non-null    int64  \n",
            " 34  UCD_3400892088310  770 non-null    int64  \n",
            " 35  UCD_3400892203645  770 non-null    int64  \n",
            " 36  UCD_3400892508566  770 non-null    int64  \n",
            " 37  UCD_3400892669236  770 non-null    int64  \n",
            " 38  UCD_3400892697789  770 non-null    int64  \n",
            " 39  UCD_3400892729589  770 non-null    int64  \n",
            " 40  UCD_3400892745848  770 non-null    int64  \n",
            " 41  UCD_3400892761527  770 non-null    int64  \n",
            " 42  UCD_3400892761695  770 non-null    int64  \n",
            " 43  UCD_3400893022634  770 non-null    int64  \n",
            " 44  UCD_3400893736135  770 non-null    int64  \n",
            " 45  UCD_3400893826706  770 non-null    int64  \n",
            " 46  UCD_3400893875490  770 non-null    int64  \n",
            " 47  CLUSTER            770 non-null    int64  \n",
            "dtypes: float64(13), int64(35)\n",
            "memory usage: 288.9 KB\n"
          ]
        }
      ]
    },
    {
      "cell_type": "markdown",
      "source": [
        "## 5.1 - New database composition based on clusters"
      ],
      "metadata": {
        "id": "S8IompnZd1gv"
      }
    }
  ]
}