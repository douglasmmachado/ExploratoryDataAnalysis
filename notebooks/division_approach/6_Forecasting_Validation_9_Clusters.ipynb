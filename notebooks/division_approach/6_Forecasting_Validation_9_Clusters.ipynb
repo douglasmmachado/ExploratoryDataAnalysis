{
  "nbformat": 4,
  "nbformat_minor": 0,
  "metadata": {
    "colab": {
      "provenance": [],
      "authorship_tag": "ABX9TyMz/lUaroVuD0WBlz3zLlF5",
      "include_colab_link": true
    },
    "kernelspec": {
      "name": "python3",
      "display_name": "Python 3"
    },
    "language_info": {
      "name": "python"
    }
  },
  "cells": [
    {
      "cell_type": "markdown",
      "metadata": {
        "id": "view-in-github",
        "colab_type": "text"
      },
      "source": [
        "<a href=\"https://colab.research.google.com/github/douglasmmachado/MedicineConsumption/blob/master/notebooks/division_approach/6_Forecasting_Validation_9_Clusters.ipynb\" target=\"_parent\"><img src=\"https://colab.research.google.com/assets/colab-badge.svg\" alt=\"Open In Colab\"/></a>"
      ]
    },
    {
      "cell_type": "markdown",
      "source": [
        "# 6 - Forecasting and prediction validation for 7 clusters"
      ],
      "metadata": {
        "id": "_jKlqIUfCkX4"
      }
    },
    {
      "cell_type": "markdown",
      "source": [
        "\n",
        "\n",
        "---\n",
        "\n",
        "\n",
        "\n",
        "---\n",
        "\n"
      ],
      "metadata": {
        "id": "3faZHM1dCq8g"
      }
    },
    {
      "cell_type": "code",
      "source": [
        "import pandas as pd\n",
        "import numpy as np\n",
        "import matplotlib.pyplot as plt\n",
        "from scipy import stats\n",
        "import seaborn as sns\n",
        "import math as m\n",
        "\n",
        "from sklearn.model_selection import train_test_split\n",
        "from sklearn.ensemble import RandomForestRegressor\n",
        "\n",
        "from sklearn.tree import export_graphviz\n",
        "from subprocess import call\n",
        "from IPython.display import Image\n",
        "\n",
        "from sklearn.metrics import r2_score, mean_absolute_error, mean_squared_error,  mean_absolute_percentage_error\n",
        "from sklearn.model_selection import RandomizedSearchCV\n",
        "from sklearn.preprocessing import StandardScaler\n",
        "\n",
        "from sklearn.utils import shuffle\n",
        "\n",
        "\n",
        "df_h1_url =\"https://raw.githubusercontent.com/douglasmmachado/ExploratoryDataAnalysis/master/datasets/division_approach/clustered/df_h1_clustered_7.csv\"\n",
        "df_h2_url =\"https://raw.githubusercontent.com/douglasmmachado/ExploratoryDataAnalysis/master/datasets/division_approach/clustered/df_h2_clustered_7.csv\"\n",
        "df_h3_url =\"https://raw.githubusercontent.com/douglasmmachado/ExploratoryDataAnalysis/master/datasets/division_approach/clustered/df_h3_clustered_7.csv\"\n",
        "df_h4_url =\"https://raw.githubusercontent.com/douglasmmachado/ExploratoryDataAnalysis/master/datasets/division_approach/clustered/df_h4_clustered_7.csv\"\n",
        "\n",
        "\n",
        "\n",
        "df_h1 = pd.read_csv(df_h1_url)\n",
        "df_h1['YEAR'] = df_h1['YEAR'].astype(int)\n",
        "df_h1['MONTH'] = df_h1['MONTH'].astype(int)\n",
        "df_h1['DATE'] = pd.to_datetime(df_h1['YEAR'].astype(str) + '-' + df_h1['MONTH'].astype(str), format='%Y-%m')\n",
        "\n",
        "df_h2 = pd.read_csv(df_h2_url)\n",
        "df_h2['YEAR'] = df_h2['YEAR'].astype(int)\n",
        "df_h2['MONTH'] = df_h2['MONTH'].astype(int)\n",
        "df_h2['DATE'] = pd.to_datetime(df_h2['YEAR'].astype(str) + '-' + df_h2['MONTH'].astype(str), format='%Y-%m')\n",
        "\n",
        "df_h3 = pd.read_csv(df_h3_url)\n",
        "df_h3['YEAR'] = df_h3['YEAR'].astype(int)\n",
        "df_h3['MONTH'] = df_h3['MONTH'].astype(int)\n",
        "df_h3['DATE'] = pd.to_datetime(df_h3['YEAR'].astype(str) + '-' + df_h3['MONTH'].astype(str), format='%Y-%m')\n",
        "\n",
        "df_h4 = pd.read_csv(df_h4_url)\n",
        "df_h4['YEAR'] = df_h4['YEAR'].astype(int)\n",
        "df_h4['MONTH'] = df_h4['MONTH'].astype(int)\n",
        "df_h4['DATE'] = pd.to_datetime(df_h4['YEAR'].astype(str) + '-' + df_h4['MONTH'].astype(str), format='%Y-%m')"
      ],
      "metadata": {
        "id": "R41SXb4cCgUh"
      },
      "execution_count": 1,
      "outputs": []
    },
    {
      "cell_type": "code",
      "source": [
        "df_h1.info()"
      ],
      "metadata": {
        "id": "22Vq-PNUZDwu",
        "outputId": "fb38bd02-b361-46cd-f820-cbeb448bf8e8",
        "colab": {
          "base_uri": "https://localhost:8080/"
        }
      },
      "execution_count": null,
      "outputs": [
        {
          "output_type": "stream",
          "name": "stdout",
          "text": [
            "<class 'pandas.core.frame.DataFrame'>\n",
            "RangeIndex: 525 entries, 0 to 524\n",
            "Data columns (total 18 columns):\n",
            " #   Column          Non-Null Count  Dtype         \n",
            "---  ------          --------------  -----         \n",
            " 0   CODE_ATC        525 non-null    int64         \n",
            " 1   DATE            525 non-null    datetime64[ns]\n",
            " 2   HOSPI_CODE_UCD  525 non-null    int64         \n",
            " 3   LIT_HC          525 non-null    float64       \n",
            " 4   LIT_HP          525 non-null    float64       \n",
            " 5   MONTH           525 non-null    int64         \n",
            " 6   N_UFS           525 non-null    float64       \n",
            " 7   PN_MEDICAL      525 non-null    float64       \n",
            " 8   POPULATION      525 non-null    float64       \n",
            " 9   P_MEDICAL       525 non-null    float64       \n",
            " 10  QUANTITY        525 non-null    float64       \n",
            " 11  QUANTITY_MA     525 non-null    float64       \n",
            " 12  SEJ_MCO         525 non-null    float64       \n",
            " 13  SEJ_SLD         525 non-null    float64       \n",
            " 14  SEJ_SSR         525 non-null    float64       \n",
            " 15  WEEK            525 non-null    int64         \n",
            " 16  YEAR            525 non-null    int64         \n",
            " 17  CLUSTER         525 non-null    int64         \n",
            "dtypes: datetime64[ns](1), float64(11), int64(6)\n",
            "memory usage: 74.0 KB\n"
          ]
        }
      ]
    },
    {
      "cell_type": "code",
      "source": [
        "df_h2.info()"
      ],
      "metadata": {
        "id": "kQ3pF2FVZD4C",
        "outputId": "e6ee4c8f-ee26-486b-a058-5623c336b35c",
        "colab": {
          "base_uri": "https://localhost:8080/"
        }
      },
      "execution_count": null,
      "outputs": [
        {
          "output_type": "stream",
          "name": "stdout",
          "text": [
            "<class 'pandas.core.frame.DataFrame'>\n",
            "RangeIndex: 525 entries, 0 to 524\n",
            "Data columns (total 18 columns):\n",
            " #   Column          Non-Null Count  Dtype         \n",
            "---  ------          --------------  -----         \n",
            " 0   CODE_ATC        525 non-null    int64         \n",
            " 1   DATE            525 non-null    datetime64[ns]\n",
            " 2   HOSPI_CODE_UCD  525 non-null    int64         \n",
            " 3   LIT_HC          525 non-null    float64       \n",
            " 4   LIT_HP          525 non-null    float64       \n",
            " 5   MONTH           525 non-null    int64         \n",
            " 6   N_UFS           525 non-null    float64       \n",
            " 7   PN_MEDICAL      525 non-null    float64       \n",
            " 8   POPULATION      525 non-null    float64       \n",
            " 9   P_MEDICAL       525 non-null    float64       \n",
            " 10  QUANTITY        525 non-null    float64       \n",
            " 11  QUANTITY_MA     525 non-null    float64       \n",
            " 12  SEJ_MCO         525 non-null    float64       \n",
            " 13  SEJ_PSY         525 non-null    float64       \n",
            " 14  SEJ_SSR         525 non-null    float64       \n",
            " 15  WEEK            525 non-null    int64         \n",
            " 16  YEAR            525 non-null    int64         \n",
            " 17  CLUSTER         525 non-null    int64         \n",
            "dtypes: datetime64[ns](1), float64(11), int64(6)\n",
            "memory usage: 74.0 KB\n"
          ]
        }
      ]
    },
    {
      "cell_type": "code",
      "source": [
        "df_h3.info()"
      ],
      "metadata": {
        "id": "UCFN6kgrZEAb",
        "outputId": "f0d0ad5b-489b-4a7c-9fb8-15552dd60086",
        "colab": {
          "base_uri": "https://localhost:8080/"
        }
      },
      "execution_count": null,
      "outputs": [
        {
          "output_type": "stream",
          "name": "stdout",
          "text": [
            "<class 'pandas.core.frame.DataFrame'>\n",
            "RangeIndex: 525 entries, 0 to 524\n",
            "Data columns (total 20 columns):\n",
            " #   Column          Non-Null Count  Dtype         \n",
            "---  ------          --------------  -----         \n",
            " 0   CODE_ATC        525 non-null    int64         \n",
            " 1   DATE            525 non-null    datetime64[ns]\n",
            " 2   HOSPI_CODE_UCD  525 non-null    int64         \n",
            " 3   LIT_HC          525 non-null    float64       \n",
            " 4   LIT_HP          525 non-null    float64       \n",
            " 5   MONTH           525 non-null    int64         \n",
            " 6   N_UFS           525 non-null    float64       \n",
            " 7   PN_MEDICAL      525 non-null    float64       \n",
            " 8   POPULATION      525 non-null    float64       \n",
            " 9   P_MEDICAL       525 non-null    float64       \n",
            " 10  QUANTITY        525 non-null    float64       \n",
            " 11  QUANTITY_MA     525 non-null    float64       \n",
            " 12  SEJ_HAD         525 non-null    float64       \n",
            " 13  SEJ_MCO         525 non-null    float64       \n",
            " 14  SEJ_PSY         525 non-null    float64       \n",
            " 15  SEJ_SLD         525 non-null    float64       \n",
            " 16  SEJ_SSR         525 non-null    float64       \n",
            " 17  WEEK            525 non-null    int64         \n",
            " 18  YEAR            525 non-null    int64         \n",
            " 19  CLUSTER         525 non-null    int64         \n",
            "dtypes: datetime64[ns](1), float64(13), int64(6)\n",
            "memory usage: 82.2 KB\n"
          ]
        }
      ]
    },
    {
      "cell_type": "code",
      "source": [
        "df_h4.info()"
      ],
      "metadata": {
        "id": "4q2znIq6ZEJs",
        "outputId": "0580f56d-02a9-4fff-de53-cf98563f3ac6",
        "colab": {
          "base_uri": "https://localhost:8080/"
        }
      },
      "execution_count": null,
      "outputs": [
        {
          "output_type": "stream",
          "name": "stdout",
          "text": [
            "<class 'pandas.core.frame.DataFrame'>\n",
            "RangeIndex: 525 entries, 0 to 524\n",
            "Data columns (total 19 columns):\n",
            " #   Column          Non-Null Count  Dtype         \n",
            "---  ------          --------------  -----         \n",
            " 0   CODE_ATC        525 non-null    int64         \n",
            " 1   DATE            525 non-null    datetime64[ns]\n",
            " 2   HOSPI_CODE_UCD  525 non-null    int64         \n",
            " 3   LIT_HC          525 non-null    float64       \n",
            " 4   LIT_HP          525 non-null    float64       \n",
            " 5   MONTH           525 non-null    int64         \n",
            " 6   N_UFS           525 non-null    float64       \n",
            " 7   PN_MEDICAL      525 non-null    float64       \n",
            " 8   POPULATION      525 non-null    float64       \n",
            " 9   P_MEDICAL       525 non-null    float64       \n",
            " 10  QUANTITY        525 non-null    float64       \n",
            " 11  QUANTITY_MA     525 non-null    float64       \n",
            " 12  SEJ_MCO         525 non-null    float64       \n",
            " 13  SEJ_PSY         525 non-null    float64       \n",
            " 14  SEJ_SLD         525 non-null    float64       \n",
            " 15  SEJ_SSR         525 non-null    float64       \n",
            " 16  WEEK            525 non-null    int64         \n",
            " 17  YEAR            525 non-null    int64         \n",
            " 18  CLUSTER         525 non-null    int64         \n",
            "dtypes: datetime64[ns](1), float64(12), int64(6)\n",
            "memory usage: 78.1 KB\n"
          ]
        }
      ]
    },
    {
      "cell_type": "markdown",
      "source": [
        "## 6.1 - New database composition based on clusters"
      ],
      "metadata": {
        "id": "S8IompnZd1gv"
      }
    },
    {
      "cell_type": "code",
      "source": [
        "df_h1_cluster_0 = df_h1[df_h1['CLUSTER'] == 0].copy()\n",
        "df_h1_cluster_1 = df_h1[df_h1['CLUSTER'] == 1].copy()\n",
        "df_h1_cluster_2 = df_h1[df_h1['CLUSTER'] == 2].copy()\n",
        "df_h1_cluster_3 = df_h1[df_h1['CLUSTER'] == 3].copy()\n",
        "df_h1_cluster_4 = df_h1[df_h1['CLUSTER'] == 4].copy()\n",
        "df_h1_cluster_5 = df_h1[df_h1['CLUSTER'] == 5].copy()\n",
        "df_h1_cluster_6 = df_h1[df_h1['CLUSTER'] == 6].copy()"
      ],
      "metadata": {
        "id": "r3PuZvaod6f2"
      },
      "execution_count": 10,
      "outputs": []
    },
    {
      "cell_type": "code",
      "source": [
        "df_h2_cluster_0 = df_h2[df_h2['CLUSTER'] == 0].copy()\n",
        "df_h2_cluster_1 = df_h2[df_h2['CLUSTER'] == 1].copy()\n",
        "df_h2_cluster_2 = df_h2[df_h2['CLUSTER'] == 2].copy()\n",
        "df_h2_cluster_3 = df_h2[df_h2['CLUSTER'] == 3].copy()\n",
        "df_h2_cluster_4 = df_h2[df_h2['CLUSTER'] == 4].copy()\n",
        "df_h2_cluster_5 = df_h2[df_h2['CLUSTER'] == 5].copy()\n",
        "df_h2_cluster_6 = df_h2[df_h2['CLUSTER'] == 6].copy()"
      ],
      "metadata": {
        "id": "XyOiO088ekBm"
      },
      "execution_count": 11,
      "outputs": []
    },
    {
      "cell_type": "code",
      "source": [
        "df_h3_cluster_0 = df_h3[df_h3['CLUSTER'] == 0].copy()\n",
        "df_h3_cluster_1 = df_h3[df_h3['CLUSTER'] == 1].copy()\n",
        "df_h3_cluster_2 = df_h3[df_h3['CLUSTER'] == 2].copy()\n",
        "df_h3_cluster_3 = df_h3[df_h3['CLUSTER'] == 3].copy()\n",
        "df_h3_cluster_4 = df_h3[df_h3['CLUSTER'] == 4].copy()\n",
        "df_h3_cluster_5 = df_h3[df_h3['CLUSTER'] == 5].copy()\n",
        "df_h3_cluster_6 = df_h3[df_h3['CLUSTER'] == 6].copy()"
      ],
      "metadata": {
        "id": "jViIPc70ekVu"
      },
      "execution_count": 12,
      "outputs": []
    },
    {
      "cell_type": "code",
      "source": [
        "df_h4_cluster_0 = df_h4[df_h4['CLUSTER'] == 0].copy()\n",
        "df_h4_cluster_1 = df_h4[df_h4['CLUSTER'] == 1].copy()\n",
        "df_h4_cluster_2 = df_h4[df_h4['CLUSTER'] == 2].copy()\n",
        "df_h4_cluster_3 = df_h4[df_h4['CLUSTER'] == 3].copy()\n",
        "df_h4_cluster_4 = df_h4[df_h4['CLUSTER'] == 4].copy()\n",
        "df_h4_cluster_5 = df_h4[df_h4['CLUSTER'] == 5].copy()\n",
        "df_h4_cluster_6 = df_h4[df_h4['CLUSTER'] == 6].copy()"
      ],
      "metadata": {
        "id": "Ot5QyRR_ekpg"
      },
      "execution_count": 13,
      "outputs": []
    },
    {
      "cell_type": "markdown",
      "source": [
        "## 6.3 - Clustering score, Test 2"
      ],
      "metadata": {
        "id": "ZFFuePTEjeHH"
      }
    },
    {
      "cell_type": "code",
      "source": [
        "def test_2_clustering(df, df_scores, hospital = '-', unified = False):\n",
        "\n",
        "  df = df.fillna(0)\n",
        "  cluster = df.CLUSTER.unique()[0]\n",
        "  scaler = StandardScaler()\n",
        "\n",
        "  X = df.drop(['QUANTITY', 'DATE', 'WEEK', 'CLUSTER'], axis=1).copy().values\n",
        "  y = df['QUANTITY'].copy().values\n",
        "  X,  y = shuffle(X, y, random_state = 42)\n",
        "  if unified:\n",
        "    # Split the data into training and testing sets\n",
        "    X_train, X_test, y_train, y_test = train_test_split(X, y,\n",
        "                                                        test_size=0.2,\n",
        "                                                        random_state=42)\n",
        "  else:\n",
        "    X_train = X\n",
        "    y_train = y\n",
        "\n",
        "    X_test = X\n",
        "    y_test = y\n",
        "\n",
        "\n",
        "  # Define the parameter distributions for RandomizedSearchCV\n",
        "  param_distributions = {\n",
        "      'max_depth': np.arange(2, 31, 2),\n",
        "      'n_estimators': np.arange(2, 201, 2),\n",
        "      'max_features': ['sqrt', 'log2'],\n",
        "      'min_samples_split': np.arange(2, 11, 2),\n",
        "      'min_samples_leaf': np.arange(2, 5, 1)\n",
        "  }\n",
        "\n",
        "  # Create the RandomizedSearchCV object\n",
        "  randomized_search = RandomizedSearchCV(estimator=RandomForestRegressor(random_state=42),\n",
        "                                          param_distributions=param_distributions,\n",
        "                                          n_iter=100,\n",
        "                                          cv=5,\n",
        "                                          random_state=42)\n",
        "\n",
        "  scaler = StandardScaler()\n",
        "  X_train_scaled = scaler.fit_transform(X_train)\n",
        "\n",
        "  # Fit the RandomizedSearchCV object to the data\n",
        "  randomized_search.fit(X_train_scaled, y_train)\n",
        "\n",
        "  # Get the best estimator\n",
        "  best_estimator = randomized_search.best_estimator_\n",
        "\n",
        "  print(f'Cluster: {cluster}')\n",
        "  print('Best Parameters:', randomized_search.best_params_)\n",
        "  print('Best Score:', randomized_search.best_score_)\n",
        "  print(f'Data in train: {len(X_train)}')\n",
        "\n",
        "  df_test = pd.DataFrame(X_test, columns = df.drop(['QUANTITY', 'DATE', 'WEEK', 'CLUSTER'], axis=1).copy().columns)\n",
        "  df_test['QUANTITY'] = y_test\n",
        "\n",
        "  for medicine in df_test.HOSPI_CODE_UCD.unique():\n",
        "    X_test_medicine = df_test[df_test['HOSPI_CODE_UCD'] == medicine].drop(['QUANTITY'], axis=1).copy().values\n",
        "    scaler = StandardScaler()\n",
        "    X_test_scaled = scaler.fit_transform(X_test_medicine)\n",
        "\n",
        "    y_test_medicine = df_test[df_test['HOSPI_CODE_UCD'] == medicine]['QUANTITY'].copy().values\n",
        "\n",
        "    print()\n",
        "    print(f'Data in test: {len(X_test_medicine)}')\n",
        "    # Make predictions using the best estimator\n",
        "    y_pred = best_estimator.predict(X_test_scaled)\n",
        "\n",
        "    # Calculate R^2 score\n",
        "    r2 = r2_score(y_test_medicine, y_pred)\n",
        "\n",
        "    # Calculate MAE\n",
        "    mae = mean_absolute_error(y_test_medicine, y_pred)\n",
        "\n",
        "    # Calculate MAPE\n",
        "    mape = mean_absolute_percentage_error(y_test_medicine, y_pred)\n",
        "\n",
        "    # Calculate RMSE\n",
        "    rmse = np.sqrt(mean_squared_error(y_test_medicine, y_pred))\n",
        "\n",
        "    # Print the best parameters, best score, and evaluation metrics\n",
        "    print('Medicine:' + str(medicine))\n",
        "    print('Medicines in cluster: ')\n",
        "    print('R^2 Score:', round(r2, 3))\n",
        "    print('MAE:', round(mae, 3))\n",
        "    print('MAPE:', round(mape, 3))\n",
        "    print('RMSE:', round(rmse, 3))\n",
        "    print()\n",
        "\n",
        "\n",
        "    # Create the new row as a DataFrame\n",
        "    new_row = pd.DataFrame({'ID_SITE_RATTACHE': [hospital],\n",
        "                            'CLUSTER': [cluster],\n",
        "                            'HOSPI_CODE_UCD': ['CODE_UCD_'+str(int(medicine))],\n",
        "                            'R2': [r2],\n",
        "                            'RMSE': [rmse],\n",
        "                            'MAE': [mae],\n",
        "                            'MAPE': [mape]})\n",
        "\n",
        "    # Append the new row to the DataFrame\n",
        "    df_scores = pd.concat([df_scores, new_row], ignore_index=True)\n",
        "\n",
        "  # Return the updated DataFrame\n",
        "  return df_scores\n"
      ],
      "metadata": {
        "id": "svktlbzP3uig"
      },
      "execution_count": 14,
      "outputs": []
    },
    {
      "cell_type": "code",
      "source": [
        "df_prediction_scores_h1_cluster_0 = pd.DataFrame(columns=['ID_SITE_RATTACHE', 'HOSPI_CODE_UCD', 'R2', 'RMSE', 'MAE', 'MAPE'])\n",
        "\n",
        "df_prediction_scores_h1_cluster_0 = test_2_clustering(df_h1_cluster_0, df_prediction_scores_h1_cluster_0, hospital = 'HOSPI_1')\n",
        "\n",
        "df_prediction_scores_h1_cluster_0"
      ],
      "metadata": {
        "colab": {
          "base_uri": "https://localhost:8080/",
          "height": 1000
        },
        "id": "H1wF3tWtjcKZ",
        "outputId": "bae283f7-0559-44d7-91c6-da636068c0ce"
      },
      "execution_count": 15,
      "outputs": [
        {
          "output_type": "stream",
          "name": "stdout",
          "text": [
            "Cluster: 0\n",
            "Best Parameters: {'n_estimators': 200, 'min_samples_split': 2, 'min_samples_leaf': 2, 'max_features': 'sqrt', 'max_depth': 28}\n",
            "Best Score: 0.9800677090193013\n",
            "Data in train: 150\n",
            "\n",
            "Data in test: 25\n",
            "Medicine:3400891996128.0\n",
            "Medicines in cluster: \n",
            "R^2 Score: -115.149\n",
            "MAE: 50099.411\n",
            "MAPE: 0.898\n",
            "RMSE: 50429.45\n",
            "\n",
            "\n",
            "Data in test: 25\n",
            "Medicine:3400892065366.0\n",
            "Medicines in cluster: \n",
            "R^2 Score: -858.315\n",
            "MAE: 6914.676\n",
            "MAPE: 1.426\n",
            "RMSE: 9087.237\n",
            "\n",
            "\n",
            "Data in test: 25\n",
            "Medicine:3400892203645.0\n",
            "Medicines in cluster: \n",
            "R^2 Score: -3871.306\n",
            "MAE: 6646.794\n",
            "MAPE: 4.747\n",
            "RMSE: 10552.825\n",
            "\n",
            "\n",
            "Data in test: 25\n",
            "Medicine:3400892088310.0\n",
            "Medicines in cluster: \n",
            "R^2 Score: -638.349\n",
            "MAE: 4733.252\n",
            "MAPE: 1.848\n",
            "RMSE: 8531.44\n",
            "\n",
            "\n",
            "Data in test: 25\n",
            "Medicine:3400892052120.0\n",
            "Medicines in cluster: \n",
            "R^2 Score: -476.971\n",
            "MAE: 4863.255\n",
            "MAPE: 1.682\n",
            "RMSE: 7721.1\n",
            "\n",
            "\n",
            "Data in test: 25\n",
            "Medicine:3400892075761.0\n",
            "Medicines in cluster: \n",
            "R^2 Score: -4167.813\n",
            "MAE: 6174.223\n",
            "MAPE: 4.216\n",
            "RMSE: 10651.509\n",
            "\n"
          ]
        },
        {
          "output_type": "execute_result",
          "data": {
            "text/plain": [
              "  ID_SITE_RATTACHE          HOSPI_CODE_UCD           R2          RMSE  \\\n",
              "0          HOSPI_1  CODE_UCD_3400891996128  -115.149461  50429.449862   \n",
              "1          HOSPI_1  CODE_UCD_3400892065366  -858.315386   9087.236723   \n",
              "2          HOSPI_1  CODE_UCD_3400892203645 -3871.306430  10552.824527   \n",
              "3          HOSPI_1  CODE_UCD_3400892088310  -638.348629   8531.440048   \n",
              "4          HOSPI_1  CODE_UCD_3400892052120  -476.970834   7721.099633   \n",
              "5          HOSPI_1  CODE_UCD_3400892075761 -4167.812582  10651.508874   \n",
              "\n",
              "            MAE      MAPE  CLUSTER  \n",
              "0  50099.410746  0.898397      0.0  \n",
              "1   6914.676402  1.426162      0.0  \n",
              "2   6646.794336  4.747446      0.0  \n",
              "3   4733.252026  1.848152      0.0  \n",
              "4   4863.255253  1.682343      0.0  \n",
              "5   6174.223472  4.216417      0.0  "
            ],
            "text/html": [
              "\n",
              "  <div id=\"df-dabe0682-4758-47ae-834b-d6b0b9e51716\">\n",
              "    <div class=\"colab-df-container\">\n",
              "      <div>\n",
              "<style scoped>\n",
              "    .dataframe tbody tr th:only-of-type {\n",
              "        vertical-align: middle;\n",
              "    }\n",
              "\n",
              "    .dataframe tbody tr th {\n",
              "        vertical-align: top;\n",
              "    }\n",
              "\n",
              "    .dataframe thead th {\n",
              "        text-align: right;\n",
              "    }\n",
              "</style>\n",
              "<table border=\"1\" class=\"dataframe\">\n",
              "  <thead>\n",
              "    <tr style=\"text-align: right;\">\n",
              "      <th></th>\n",
              "      <th>ID_SITE_RATTACHE</th>\n",
              "      <th>HOSPI_CODE_UCD</th>\n",
              "      <th>R2</th>\n",
              "      <th>RMSE</th>\n",
              "      <th>MAE</th>\n",
              "      <th>MAPE</th>\n",
              "      <th>CLUSTER</th>\n",
              "    </tr>\n",
              "  </thead>\n",
              "  <tbody>\n",
              "    <tr>\n",
              "      <th>0</th>\n",
              "      <td>HOSPI_1</td>\n",
              "      <td>CODE_UCD_3400891996128</td>\n",
              "      <td>-115.149461</td>\n",
              "      <td>50429.449862</td>\n",
              "      <td>50099.410746</td>\n",
              "      <td>0.898397</td>\n",
              "      <td>0.0</td>\n",
              "    </tr>\n",
              "    <tr>\n",
              "      <th>1</th>\n",
              "      <td>HOSPI_1</td>\n",
              "      <td>CODE_UCD_3400892065366</td>\n",
              "      <td>-858.315386</td>\n",
              "      <td>9087.236723</td>\n",
              "      <td>6914.676402</td>\n",
              "      <td>1.426162</td>\n",
              "      <td>0.0</td>\n",
              "    </tr>\n",
              "    <tr>\n",
              "      <th>2</th>\n",
              "      <td>HOSPI_1</td>\n",
              "      <td>CODE_UCD_3400892203645</td>\n",
              "      <td>-3871.306430</td>\n",
              "      <td>10552.824527</td>\n",
              "      <td>6646.794336</td>\n",
              "      <td>4.747446</td>\n",
              "      <td>0.0</td>\n",
              "    </tr>\n",
              "    <tr>\n",
              "      <th>3</th>\n",
              "      <td>HOSPI_1</td>\n",
              "      <td>CODE_UCD_3400892088310</td>\n",
              "      <td>-638.348629</td>\n",
              "      <td>8531.440048</td>\n",
              "      <td>4733.252026</td>\n",
              "      <td>1.848152</td>\n",
              "      <td>0.0</td>\n",
              "    </tr>\n",
              "    <tr>\n",
              "      <th>4</th>\n",
              "      <td>HOSPI_1</td>\n",
              "      <td>CODE_UCD_3400892052120</td>\n",
              "      <td>-476.970834</td>\n",
              "      <td>7721.099633</td>\n",
              "      <td>4863.255253</td>\n",
              "      <td>1.682343</td>\n",
              "      <td>0.0</td>\n",
              "    </tr>\n",
              "    <tr>\n",
              "      <th>5</th>\n",
              "      <td>HOSPI_1</td>\n",
              "      <td>CODE_UCD_3400892075761</td>\n",
              "      <td>-4167.812582</td>\n",
              "      <td>10651.508874</td>\n",
              "      <td>6174.223472</td>\n",
              "      <td>4.216417</td>\n",
              "      <td>0.0</td>\n",
              "    </tr>\n",
              "  </tbody>\n",
              "</table>\n",
              "</div>\n",
              "      <button class=\"colab-df-convert\" onclick=\"convertToInteractive('df-dabe0682-4758-47ae-834b-d6b0b9e51716')\"\n",
              "              title=\"Convert this dataframe to an interactive table.\"\n",
              "              style=\"display:none;\">\n",
              "        \n",
              "  <svg xmlns=\"http://www.w3.org/2000/svg\" height=\"24px\"viewBox=\"0 0 24 24\"\n",
              "       width=\"24px\">\n",
              "    <path d=\"M0 0h24v24H0V0z\" fill=\"none\"/>\n",
              "    <path d=\"M18.56 5.44l.94 2.06.94-2.06 2.06-.94-2.06-.94-.94-2.06-.94 2.06-2.06.94zm-11 1L8.5 8.5l.94-2.06 2.06-.94-2.06-.94L8.5 2.5l-.94 2.06-2.06.94zm10 10l.94 2.06.94-2.06 2.06-.94-2.06-.94-.94-2.06-.94 2.06-2.06.94z\"/><path d=\"M17.41 7.96l-1.37-1.37c-.4-.4-.92-.59-1.43-.59-.52 0-1.04.2-1.43.59L10.3 9.45l-7.72 7.72c-.78.78-.78 2.05 0 2.83L4 21.41c.39.39.9.59 1.41.59.51 0 1.02-.2 1.41-.59l7.78-7.78 2.81-2.81c.8-.78.8-2.07 0-2.86zM5.41 20L4 18.59l7.72-7.72 1.47 1.35L5.41 20z\"/>\n",
              "  </svg>\n",
              "      </button>\n",
              "      \n",
              "  <style>\n",
              "    .colab-df-container {\n",
              "      display:flex;\n",
              "      flex-wrap:wrap;\n",
              "      gap: 12px;\n",
              "    }\n",
              "\n",
              "    .colab-df-convert {\n",
              "      background-color: #E8F0FE;\n",
              "      border: none;\n",
              "      border-radius: 50%;\n",
              "      cursor: pointer;\n",
              "      display: none;\n",
              "      fill: #1967D2;\n",
              "      height: 32px;\n",
              "      padding: 0 0 0 0;\n",
              "      width: 32px;\n",
              "    }\n",
              "\n",
              "    .colab-df-convert:hover {\n",
              "      background-color: #E2EBFA;\n",
              "      box-shadow: 0px 1px 2px rgba(60, 64, 67, 0.3), 0px 1px 3px 1px rgba(60, 64, 67, 0.15);\n",
              "      fill: #174EA6;\n",
              "    }\n",
              "\n",
              "    [theme=dark] .colab-df-convert {\n",
              "      background-color: #3B4455;\n",
              "      fill: #D2E3FC;\n",
              "    }\n",
              "\n",
              "    [theme=dark] .colab-df-convert:hover {\n",
              "      background-color: #434B5C;\n",
              "      box-shadow: 0px 1px 3px 1px rgba(0, 0, 0, 0.15);\n",
              "      filter: drop-shadow(0px 1px 2px rgba(0, 0, 0, 0.3));\n",
              "      fill: #FFFFFF;\n",
              "    }\n",
              "  </style>\n",
              "\n",
              "      <script>\n",
              "        const buttonEl =\n",
              "          document.querySelector('#df-dabe0682-4758-47ae-834b-d6b0b9e51716 button.colab-df-convert');\n",
              "        buttonEl.style.display =\n",
              "          google.colab.kernel.accessAllowed ? 'block' : 'none';\n",
              "\n",
              "        async function convertToInteractive(key) {\n",
              "          const element = document.querySelector('#df-dabe0682-4758-47ae-834b-d6b0b9e51716');\n",
              "          const dataTable =\n",
              "            await google.colab.kernel.invokeFunction('convertToInteractive',\n",
              "                                                     [key], {});\n",
              "          if (!dataTable) return;\n",
              "\n",
              "          const docLinkHtml = 'Like what you see? Visit the ' +\n",
              "            '<a target=\"_blank\" href=https://colab.research.google.com/notebooks/data_table.ipynb>data table notebook</a>'\n",
              "            + ' to learn more about interactive tables.';\n",
              "          element.innerHTML = '';\n",
              "          dataTable['output_type'] = 'display_data';\n",
              "          await google.colab.output.renderOutput(dataTable, element);\n",
              "          const docLink = document.createElement('div');\n",
              "          docLink.innerHTML = docLinkHtml;\n",
              "          element.appendChild(docLink);\n",
              "        }\n",
              "      </script>\n",
              "    </div>\n",
              "  </div>\n",
              "  "
            ]
          },
          "metadata": {},
          "execution_count": 15
        }
      ]
    },
    {
      "cell_type": "code",
      "source": [
        "df_prediction_scores_h1_cluster_1 = pd.DataFrame(columns=['ID_SITE_RATTACHE', 'HOSPI_CODE_UCD', 'R2', 'RMSE', 'MAE', 'MAPE'])\n",
        "\n",
        "df_prediction_scores_h1_cluster_1 = test_2_clustering(df_h1_cluster_1, df_prediction_scores_h1_cluster_1, hospital = 'HOSPI_1')\n",
        "\n",
        "df_prediction_scores_h1_cluster_1"
      ],
      "metadata": {
        "colab": {
          "base_uri": "https://localhost:8080/",
          "height": 505
        },
        "id": "HPRGAt6M6BGd",
        "outputId": "f828127c-2c3c-4a2d-fb93-330a37ff2466"
      },
      "execution_count": 16,
      "outputs": [
        {
          "output_type": "stream",
          "name": "stdout",
          "text": [
            "Cluster: 1\n",
            "Best Parameters: {'n_estimators': 40, 'min_samples_split': 8, 'min_samples_leaf': 2, 'max_features': 'log2', 'max_depth': 26}\n",
            "Best Score: 0.9377629372591247\n",
            "Data in train: 50\n",
            "\n",
            "Data in test: 25\n",
            "Medicine:3400893875490.0\n",
            "Medicines in cluster: \n",
            "R^2 Score: -39.842\n",
            "MAE: 4719.208\n",
            "MAPE: 0.51\n",
            "RMSE: 4787.892\n",
            "\n",
            "\n",
            "Data in test: 25\n",
            "Medicine:3400893826706.0\n",
            "Medicines in cluster: \n",
            "R^2 Score: -3.953\n",
            "MAE: 1051.65\n",
            "MAPE: 0.342\n",
            "RMSE: 1168.378\n",
            "\n"
          ]
        },
        {
          "output_type": "execute_result",
          "data": {
            "text/plain": [
              "  ID_SITE_RATTACHE          HOSPI_CODE_UCD         R2         RMSE  \\\n",
              "0          HOSPI_1  CODE_UCD_3400893875490 -39.842018  4787.892193   \n",
              "1          HOSPI_1  CODE_UCD_3400893826706  -3.953440  1168.378289   \n",
              "\n",
              "           MAE      MAPE  CLUSTER  \n",
              "0  4719.208108  0.510291      1.0  \n",
              "1  1051.649858  0.341799      1.0  "
            ],
            "text/html": [
              "\n",
              "  <div id=\"df-e4ffa7e5-39ce-4d10-b90c-6d2148858b47\">\n",
              "    <div class=\"colab-df-container\">\n",
              "      <div>\n",
              "<style scoped>\n",
              "    .dataframe tbody tr th:only-of-type {\n",
              "        vertical-align: middle;\n",
              "    }\n",
              "\n",
              "    .dataframe tbody tr th {\n",
              "        vertical-align: top;\n",
              "    }\n",
              "\n",
              "    .dataframe thead th {\n",
              "        text-align: right;\n",
              "    }\n",
              "</style>\n",
              "<table border=\"1\" class=\"dataframe\">\n",
              "  <thead>\n",
              "    <tr style=\"text-align: right;\">\n",
              "      <th></th>\n",
              "      <th>ID_SITE_RATTACHE</th>\n",
              "      <th>HOSPI_CODE_UCD</th>\n",
              "      <th>R2</th>\n",
              "      <th>RMSE</th>\n",
              "      <th>MAE</th>\n",
              "      <th>MAPE</th>\n",
              "      <th>CLUSTER</th>\n",
              "    </tr>\n",
              "  </thead>\n",
              "  <tbody>\n",
              "    <tr>\n",
              "      <th>0</th>\n",
              "      <td>HOSPI_1</td>\n",
              "      <td>CODE_UCD_3400893875490</td>\n",
              "      <td>-39.842018</td>\n",
              "      <td>4787.892193</td>\n",
              "      <td>4719.208108</td>\n",
              "      <td>0.510291</td>\n",
              "      <td>1.0</td>\n",
              "    </tr>\n",
              "    <tr>\n",
              "      <th>1</th>\n",
              "      <td>HOSPI_1</td>\n",
              "      <td>CODE_UCD_3400893826706</td>\n",
              "      <td>-3.953440</td>\n",
              "      <td>1168.378289</td>\n",
              "      <td>1051.649858</td>\n",
              "      <td>0.341799</td>\n",
              "      <td>1.0</td>\n",
              "    </tr>\n",
              "  </tbody>\n",
              "</table>\n",
              "</div>\n",
              "      <button class=\"colab-df-convert\" onclick=\"convertToInteractive('df-e4ffa7e5-39ce-4d10-b90c-6d2148858b47')\"\n",
              "              title=\"Convert this dataframe to an interactive table.\"\n",
              "              style=\"display:none;\">\n",
              "        \n",
              "  <svg xmlns=\"http://www.w3.org/2000/svg\" height=\"24px\"viewBox=\"0 0 24 24\"\n",
              "       width=\"24px\">\n",
              "    <path d=\"M0 0h24v24H0V0z\" fill=\"none\"/>\n",
              "    <path d=\"M18.56 5.44l.94 2.06.94-2.06 2.06-.94-2.06-.94-.94-2.06-.94 2.06-2.06.94zm-11 1L8.5 8.5l.94-2.06 2.06-.94-2.06-.94L8.5 2.5l-.94 2.06-2.06.94zm10 10l.94 2.06.94-2.06 2.06-.94-2.06-.94-.94-2.06-.94 2.06-2.06.94z\"/><path d=\"M17.41 7.96l-1.37-1.37c-.4-.4-.92-.59-1.43-.59-.52 0-1.04.2-1.43.59L10.3 9.45l-7.72 7.72c-.78.78-.78 2.05 0 2.83L4 21.41c.39.39.9.59 1.41.59.51 0 1.02-.2 1.41-.59l7.78-7.78 2.81-2.81c.8-.78.8-2.07 0-2.86zM5.41 20L4 18.59l7.72-7.72 1.47 1.35L5.41 20z\"/>\n",
              "  </svg>\n",
              "      </button>\n",
              "      \n",
              "  <style>\n",
              "    .colab-df-container {\n",
              "      display:flex;\n",
              "      flex-wrap:wrap;\n",
              "      gap: 12px;\n",
              "    }\n",
              "\n",
              "    .colab-df-convert {\n",
              "      background-color: #E8F0FE;\n",
              "      border: none;\n",
              "      border-radius: 50%;\n",
              "      cursor: pointer;\n",
              "      display: none;\n",
              "      fill: #1967D2;\n",
              "      height: 32px;\n",
              "      padding: 0 0 0 0;\n",
              "      width: 32px;\n",
              "    }\n",
              "\n",
              "    .colab-df-convert:hover {\n",
              "      background-color: #E2EBFA;\n",
              "      box-shadow: 0px 1px 2px rgba(60, 64, 67, 0.3), 0px 1px 3px 1px rgba(60, 64, 67, 0.15);\n",
              "      fill: #174EA6;\n",
              "    }\n",
              "\n",
              "    [theme=dark] .colab-df-convert {\n",
              "      background-color: #3B4455;\n",
              "      fill: #D2E3FC;\n",
              "    }\n",
              "\n",
              "    [theme=dark] .colab-df-convert:hover {\n",
              "      background-color: #434B5C;\n",
              "      box-shadow: 0px 1px 3px 1px rgba(0, 0, 0, 0.15);\n",
              "      filter: drop-shadow(0px 1px 2px rgba(0, 0, 0, 0.3));\n",
              "      fill: #FFFFFF;\n",
              "    }\n",
              "  </style>\n",
              "\n",
              "      <script>\n",
              "        const buttonEl =\n",
              "          document.querySelector('#df-e4ffa7e5-39ce-4d10-b90c-6d2148858b47 button.colab-df-convert');\n",
              "        buttonEl.style.display =\n",
              "          google.colab.kernel.accessAllowed ? 'block' : 'none';\n",
              "\n",
              "        async function convertToInteractive(key) {\n",
              "          const element = document.querySelector('#df-e4ffa7e5-39ce-4d10-b90c-6d2148858b47');\n",
              "          const dataTable =\n",
              "            await google.colab.kernel.invokeFunction('convertToInteractive',\n",
              "                                                     [key], {});\n",
              "          if (!dataTable) return;\n",
              "\n",
              "          const docLinkHtml = 'Like what you see? Visit the ' +\n",
              "            '<a target=\"_blank\" href=https://colab.research.google.com/notebooks/data_table.ipynb>data table notebook</a>'\n",
              "            + ' to learn more about interactive tables.';\n",
              "          element.innerHTML = '';\n",
              "          dataTable['output_type'] = 'display_data';\n",
              "          await google.colab.output.renderOutput(dataTable, element);\n",
              "          const docLink = document.createElement('div');\n",
              "          docLink.innerHTML = docLinkHtml;\n",
              "          element.appendChild(docLink);\n",
              "        }\n",
              "      </script>\n",
              "    </div>\n",
              "  </div>\n",
              "  "
            ]
          },
          "metadata": {},
          "execution_count": 16
        }
      ]
    },
    {
      "cell_type": "code",
      "source": [
        "df_prediction_scores_h1_cluster_2 = pd.DataFrame(columns=['ID_SITE_RATTACHE', 'HOSPI_CODE_UCD', 'R2', 'RMSE', 'MAE', 'MAPE'])\n",
        "\n",
        "df_prediction_scores_h1_cluster_2 = test_2_clustering(df_h1_cluster_2, df_prediction_scores_h1_cluster_2, hospital = 'HOSPI_1')\n",
        "\n",
        "df_prediction_scores_h1_cluster_2"
      ],
      "metadata": {
        "id": "K5gJfe7b7nCZ"
      },
      "execution_count": null,
      "outputs": []
    },
    {
      "cell_type": "code",
      "source": [
        "df_prediction_scores_h1_cluster_3 = pd.DataFrame(columns=['ID_SITE_RATTACHE', 'HOSPI_CODE_UCD', 'R2', 'RMSE', 'MAE', 'MAPE'])\n",
        "\n",
        "df_prediction_scores_h1_cluster_3 = test_2_clustering(df_h1_cluster_3, df_prediction_scores_h1_cluster_3, hospital = 'HOSPI_1')\n",
        "\n",
        "df_prediction_scores_h1_cluster_3"
      ],
      "metadata": {
        "id": "kNmvnL0j7nrB"
      },
      "execution_count": null,
      "outputs": []
    },
    {
      "cell_type": "code",
      "source": [
        "df_prediction_scores_h1_cluster_4 = pd.DataFrame(columns=['ID_SITE_RATTACHE', 'HOSPI_CODE_UCD', 'R2', 'RMSE', 'MAE', 'MAPE'])\n",
        "\n",
        "df_prediction_scores_h1_cluster_4 = test_2_clustering(df_h1_cluster_4, df_prediction_scores_h1_cluster_4, hospital = 'HOSPI_1')\n",
        "\n",
        "df_prediction_scores_h1_cluster_4"
      ],
      "metadata": {
        "id": "cgB2PVo1ki9V"
      },
      "execution_count": null,
      "outputs": []
    },
    {
      "cell_type": "code",
      "source": [
        "df_prediction_scores_h1_cluster_5 = pd.DataFrame(columns=['ID_SITE_RATTACHE', 'HOSPI_CODE_UCD', 'R2', 'RMSE', 'MAE', 'MAPE'])\n",
        "\n",
        "df_prediction_scores_h1_cluster_5 = test_2_clustering(df_h1_cluster_5, df_prediction_scores_h1_cluster_5, hospital = 'HOSPI_1')\n",
        "\n",
        "df_prediction_scores_h1_cluster_5"
      ],
      "metadata": {
        "id": "VSIcfgZ_kkDP"
      },
      "execution_count": null,
      "outputs": []
    },
    {
      "cell_type": "code",
      "source": [
        "df_prediction_scores_h1_cluster_6 = pd.DataFrame(columns=['ID_SITE_RATTACHE', 'HOSPI_CODE_UCD', 'R2', 'RMSE', 'MAE', 'MAPE'])\n",
        "\n",
        "df_prediction_scores_h1_cluster_6 = test_2_clustering(df_h1_cluster_6, df_prediction_scores_h1_cluster_6, hospital = 'HOSPI_1')\n",
        "\n",
        "df_prediction_scores_h1_cluster_6"
      ],
      "metadata": {
        "id": "v_Sh74CJkkVM"
      },
      "execution_count": null,
      "outputs": []
    },
    {
      "cell_type": "code",
      "source": [
        "pd.concat([df_prediction_scores_h1_cluster_0,\n",
        "           df_prediction_scores_h1_cluster_1,\n",
        "           df_prediction_scores_h1_cluster_2,\n",
        "           df_prediction_scores_h1_cluster_3,\n",
        "           df_prediction_scores_h1_cluster_4,\n",
        "           df_prediction_scores_h1_cluster_5,\n",
        "           df_prediction_scores_h1_cluster_6])"
      ],
      "metadata": {
        "id": "p1uKOzo370Lc"
      },
      "execution_count": null,
      "outputs": []
    },
    {
      "cell_type": "code",
      "source": [
        "df_prediction_scores_h2_cluster_0 = pd.DataFrame(columns=['ID_SITE_RATTACHE', 'HOSPI_CODE_UCD', 'R2', 'RMSE', 'MAE', 'MAPE'])\n",
        "\n",
        "df_prediction_scores_h2_cluster_0 = test_2_clustering(df_h2_cluster_0, df_prediction_scores_h2_cluster_0, hospital = 'HOSPI_2')\n",
        "\n",
        "df_prediction_scores_h2_cluster_0"
      ],
      "metadata": {
        "id": "MNhKmt8AAVxi"
      },
      "execution_count": null,
      "outputs": []
    },
    {
      "cell_type": "code",
      "source": [
        "df_prediction_scores_h2_cluster_1 = pd.DataFrame(columns=['ID_SITE_RATTACHE', 'HOSPI_CODE_UCD', 'R2', 'RMSE', 'MAE', 'MAPE'])\n",
        "\n",
        "df_prediction_scores_h2_cluster_1 = test_2_clustering(df_h2_cluster_1, df_prediction_scores_h2_cluster_1, hospital = 'HOSPI_2')\n",
        "\n",
        "df_prediction_scores_h2_cluster_1"
      ],
      "metadata": {
        "id": "2AlyvidMAWya"
      },
      "execution_count": null,
      "outputs": []
    },
    {
      "cell_type": "code",
      "source": [
        "df_prediction_scores_h2_cluster_2 = pd.DataFrame(columns=['ID_SITE_RATTACHE', 'HOSPI_CODE_UCD', 'R2', 'RMSE', 'MAE', 'MAPE'])\n",
        "\n",
        "df_prediction_scores_h2_cluster_2 = test_2_clustering(df_h2_cluster_2, df_prediction_scores_h2_cluster_2, hospital = 'HOSPI_2')\n",
        "\n",
        "df_prediction_scores_h2_cluster_2"
      ],
      "metadata": {
        "id": "G-xATFM2AXB2"
      },
      "execution_count": null,
      "outputs": []
    },
    {
      "cell_type": "code",
      "source": [
        "df_prediction_scores_h2_cluster_3 = pd.DataFrame(columns=['ID_SITE_RATTACHE', 'HOSPI_CODE_UCD', 'R2', 'RMSE', 'MAE', 'MAPE'])\n",
        "\n",
        "df_prediction_scores_h2_cluster_3 = test_2_clustering(df_h2_cluster_3, df_prediction_scores_h2_cluster_3, hospital = 'HOSPI_2')\n",
        "\n",
        "df_prediction_scores_h2_cluster_3"
      ],
      "metadata": {
        "id": "98OiRJyEAXwO"
      },
      "execution_count": null,
      "outputs": []
    },
    {
      "cell_type": "code",
      "source": [
        "df_prediction_scores_h2_cluster_4 = pd.DataFrame(columns=['ID_SITE_RATTACHE', 'HOSPI_CODE_UCD', 'R2', 'RMSE', 'MAE', 'MAPE'])\n",
        "\n",
        "df_prediction_scores_h2_cluster_4 = test_2_clustering(df_h2_cluster_4, df_prediction_scores_h2_cluster_4, hospital = 'HOSPI_2')\n",
        "\n",
        "df_prediction_scores_h2_cluster_4"
      ],
      "metadata": {
        "id": "vB_4z4iwk6BE"
      },
      "execution_count": null,
      "outputs": []
    },
    {
      "cell_type": "code",
      "source": [
        "df_prediction_scores_h2_cluster_5 = pd.DataFrame(columns=['ID_SITE_RATTACHE', 'HOSPI_CODE_UCD', 'R2', 'RMSE', 'MAE', 'MAPE'])\n",
        "\n",
        "df_prediction_scores_h2_cluster_5 = test_2_clustering(df_h2_cluster_5, df_prediction_scores_h2_cluster_5, hospital = 'HOSPI_2')\n",
        "\n",
        "df_prediction_scores_h2_cluster_5"
      ],
      "metadata": {
        "id": "PMfO7bdsk6L0"
      },
      "execution_count": null,
      "outputs": []
    },
    {
      "cell_type": "code",
      "source": [
        "df_prediction_scores_h2_cluster_6 = pd.DataFrame(columns=['ID_SITE_RATTACHE', 'HOSPI_CODE_UCD', 'R2', 'RMSE', 'MAE', 'MAPE'])\n",
        "\n",
        "df_prediction_scores_h2_cluster_6 = test_2_clustering(df_h2_cluster_6, df_prediction_scores_h2_cluster_6, hospital = 'HOSPI_2')\n",
        "\n",
        "df_prediction_scores_h2_cluster_6"
      ],
      "metadata": {
        "id": "lRd1l-wQk6VK"
      },
      "execution_count": null,
      "outputs": []
    },
    {
      "cell_type": "code",
      "source": [
        "pd.concat([df_prediction_scores_h2_cluster_0,\n",
        "           df_prediction_scores_h2_cluster_1,\n",
        "           df_prediction_scores_h2_cluster_2,\n",
        "           df_prediction_scores_h2_cluster_3,\n",
        "           df_prediction_scores_h2_cluster_4,\n",
        "           df_prediction_scores_h2_cluster_5,\n",
        "           df_prediction_scores_h2_cluster_6])"
      ],
      "metadata": {
        "id": "fp6iHQzbAZhk"
      },
      "execution_count": null,
      "outputs": []
    },
    {
      "cell_type": "code",
      "source": [
        "df_prediction_scores_h3_cluster_0 = pd.DataFrame(columns=['ID_SITE_RATTACHE', 'HOSPI_CODE_UCD', 'R2', 'RMSE', 'MAE', 'MAPE'])\n",
        "\n",
        "df_prediction_scores_h3_cluster_0 = test_2_clustering(df_h3_cluster_0, df_prediction_scores_h3_cluster_0, hospital = 'HOSPI_3')\n",
        "\n",
        "df_prediction_scores_h3_cluster_0"
      ],
      "metadata": {
        "id": "dw7lFmeTZiGg"
      },
      "execution_count": null,
      "outputs": []
    },
    {
      "cell_type": "code",
      "source": [
        "df_prediction_scores_h3_cluster_1 = pd.DataFrame(columns=['ID_SITE_RATTACHE', 'HOSPI_CODE_UCD', 'R2', 'RMSE', 'MAE', 'MAPE'])\n",
        "\n",
        "df_prediction_scores_h3_cluster_1 = test_2_clustering(df_h3_cluster_1, df_prediction_scores_h3_cluster_1, hospital = 'HOSPI_3')\n",
        "\n",
        "df_prediction_scores_h3_cluster_1"
      ],
      "metadata": {
        "id": "aF1MpGypZiP3"
      },
      "execution_count": null,
      "outputs": []
    },
    {
      "cell_type": "code",
      "source": [
        "df_prediction_scores_h3_cluster_2 = pd.DataFrame(columns=['ID_SITE_RATTACHE', 'HOSPI_CODE_UCD', 'R2', 'RMSE', 'MAE', 'MAPE'])\n",
        "\n",
        "df_prediction_scores_h3_cluster_2 = test_2_clustering(df_h3_cluster_2, df_prediction_scores_h3_cluster_2, hospital = 'HOSPI_3')\n",
        "\n",
        "df_prediction_scores_h3_cluster_2"
      ],
      "metadata": {
        "id": "YQD19rdiZiX0"
      },
      "execution_count": null,
      "outputs": []
    },
    {
      "cell_type": "code",
      "source": [
        "df_prediction_scores_h3_cluster_3 = pd.DataFrame(columns=['ID_SITE_RATTACHE', 'HOSPI_CODE_UCD', 'R2', 'RMSE', 'MAE', 'MAPE'])\n",
        "\n",
        "df_prediction_scores_h3_cluster_3 = test_2_clustering(df_h3_cluster_3, df_prediction_scores_h3_cluster_3, hospital = 'HOSPI_3')\n",
        "\n",
        "df_prediction_scores_h3_cluster_3"
      ],
      "metadata": {
        "id": "CqCkwx31Zigz"
      },
      "execution_count": null,
      "outputs": []
    },
    {
      "cell_type": "code",
      "source": [
        "df_prediction_scores_h3_cluster_4 = pd.DataFrame(columns=['ID_SITE_RATTACHE', 'HOSPI_CODE_UCD', 'R2', 'RMSE', 'MAE', 'MAPE'])\n",
        "\n",
        "df_prediction_scores_h3_cluster_4 = test_2_clustering(df_h3_cluster_4, df_prediction_scores_h3_cluster_4, hospital = 'HOSPI_3')\n",
        "\n",
        "df_prediction_scores_h3_cluster_4"
      ],
      "metadata": {
        "id": "uTxw3Idcl_VM"
      },
      "execution_count": null,
      "outputs": []
    },
    {
      "cell_type": "code",
      "source": [
        "df_prediction_scores_h3_cluster_5 = pd.DataFrame(columns=['ID_SITE_RATTACHE', 'HOSPI_CODE_UCD', 'R2', 'RMSE', 'MAE', 'MAPE'])\n",
        "\n",
        "df_prediction_scores_h3_cluster_5 = test_2_clustering(df_h3_cluster_5, df_prediction_scores_h3_cluster_5, hospital = 'HOSPI_3')\n",
        "\n",
        "df_prediction_scores_h3_cluster_5"
      ],
      "metadata": {
        "id": "dVAi5Hlgl_WV"
      },
      "execution_count": null,
      "outputs": []
    },
    {
      "cell_type": "code",
      "source": [
        "df_prediction_scores_h3_cluster_6 = pd.DataFrame(columns=['ID_SITE_RATTACHE', 'HOSPI_CODE_UCD', 'R2', 'RMSE', 'MAE', 'MAPE'])\n",
        "\n",
        "df_prediction_scores_h3_cluster_6 = test_2_clustering(df_h3_cluster_6, df_prediction_scores_h3_cluster_6, hospital = 'HOSPI_3')\n",
        "\n",
        "df_prediction_scores_h3_cluster_6"
      ],
      "metadata": {
        "id": "wIypbQgVl_p1"
      },
      "execution_count": null,
      "outputs": []
    },
    {
      "cell_type": "code",
      "source": [
        "pd.concat([df_prediction_scores_h3_cluster_0,\n",
        "           df_prediction_scores_h3_cluster_1,\n",
        "           df_prediction_scores_h3_cluster_2,\n",
        "           df_prediction_scores_h3_cluster_3,\n",
        "           df_prediction_scores_h3_cluster_4,\n",
        "           df_prediction_scores_h3_cluster_5,\n",
        "           df_prediction_scores_h3_cluster_6])"
      ],
      "metadata": {
        "id": "uhxtgl3WZiqt"
      },
      "execution_count": null,
      "outputs": []
    },
    {
      "cell_type": "code",
      "source": [
        "df_prediction_scores_h4_cluster_0 = pd.DataFrame(columns=['ID_SITE_RATTACHE', 'HOSPI_CODE_UCD', 'R2', 'RMSE', 'MAE', 'MAPE'])\n",
        "\n",
        "df_prediction_scores_h4_cluster_0 = test_2_clustering(df_h4_cluster_0, df_prediction_scores_h4_cluster_0, hospital = 'HOSPI_4')\n",
        "\n",
        "df_prediction_scores_h4_cluster_0"
      ],
      "metadata": {
        "id": "w5LSsRRmaBJh"
      },
      "execution_count": null,
      "outputs": []
    },
    {
      "cell_type": "code",
      "source": [
        "df_prediction_scores_h4_cluster_1 = pd.DataFrame(columns=['ID_SITE_RATTACHE', 'HOSPI_CODE_UCD', 'R2', 'RMSE', 'MAE', 'MAPE'])\n",
        "\n",
        "df_prediction_scores_h4_cluster_1 = test_2_clustering(df_h4_cluster_1, df_prediction_scores_h4_cluster_1, hospital = 'HOSPI_4')\n",
        "\n",
        "df_prediction_scores_h4_cluster_1"
      ],
      "metadata": {
        "id": "rS3U4hZUaBRK"
      },
      "execution_count": null,
      "outputs": []
    },
    {
      "cell_type": "code",
      "source": [
        "df_prediction_scores_h4_cluster_2 = pd.DataFrame(columns=['ID_SITE_RATTACHE', 'HOSPI_CODE_UCD', 'R2', 'RMSE', 'MAE', 'MAPE'])\n",
        "\n",
        "df_prediction_scores_h4_cluster_2 = test_2_clustering(df_h4_cluster_2, df_prediction_scores_h4_cluster_2, hospital = 'HOSPI_4')\n",
        "\n",
        "df_prediction_scores_h4_cluster_2"
      ],
      "metadata": {
        "id": "EsGQv_uuaBYG"
      },
      "execution_count": null,
      "outputs": []
    },
    {
      "cell_type": "code",
      "source": [
        "df_prediction_scores_h4_cluster_3 = pd.DataFrame(columns=['ID_SITE_RATTACHE', 'HOSPI_CODE_UCD', 'R2', 'RMSE', 'MAE', 'MAPE'])\n",
        "\n",
        "df_prediction_scores_h4_cluster_3 = test_2_clustering(df_h4_cluster_3, df_prediction_scores_h4_cluster_3, hospital = 'HOSPI_4')\n",
        "\n",
        "df_prediction_scores_h4_cluster_3"
      ],
      "metadata": {
        "id": "_Nl_JE6GaBfL"
      },
      "execution_count": null,
      "outputs": []
    },
    {
      "cell_type": "code",
      "source": [
        "df_prediction_scores_h4_cluster_4 = pd.DataFrame(columns=['ID_SITE_RATTACHE', 'HOSPI_CODE_UCD', 'R2', 'RMSE', 'MAE', 'MAPE'])\n",
        "\n",
        "df_prediction_scores_h4_cluster_4 = test_2_clustering(df_h4_cluster_4, df_prediction_scores_h4_cluster_4, hospital = 'HOSPI_4')\n",
        "\n",
        "df_prediction_scores_h4_cluster_4"
      ],
      "metadata": {
        "id": "6lveYXgemOIX"
      },
      "execution_count": null,
      "outputs": []
    },
    {
      "cell_type": "code",
      "source": [
        "df_prediction_scores_h4_cluster_5 = pd.DataFrame(columns=['ID_SITE_RATTACHE', 'HOSPI_CODE_UCD', 'R2', 'RMSE', 'MAE', 'MAPE'])\n",
        "\n",
        "df_prediction_scores_h4_cluster_5 = test_2_clustering(df_h4_cluster_5, df_prediction_scores_h4_cluster_5, hospital = 'HOSPI_4')\n",
        "\n",
        "df_prediction_scores_h4_cluster_5"
      ],
      "metadata": {
        "id": "zewu-xWDmRwJ"
      },
      "execution_count": null,
      "outputs": []
    },
    {
      "cell_type": "code",
      "source": [
        "df_prediction_scores_h4_cluster_6 = pd.DataFrame(columns=['ID_SITE_RATTACHE', 'HOSPI_CODE_UCD', 'R2', 'RMSE', 'MAE', 'MAPE'])\n",
        "\n",
        "df_prediction_scores_h4_cluster_6 = test_2_clustering(df_h4_cluster_6, df_prediction_scores_h4_cluster_6, hospital = 'HOSPI_4')\n",
        "\n",
        "df_prediction_scores_h4_cluster_6"
      ],
      "metadata": {
        "id": "T7DGk0QqmR4a"
      },
      "execution_count": null,
      "outputs": []
    },
    {
      "cell_type": "code",
      "source": [
        "pd.concat([df_prediction_scores_h4_cluster_0,\n",
        "           df_prediction_scores_h4_cluster_1,\n",
        "           df_prediction_scores_h4_cluster_2,\n",
        "           df_prediction_scores_h4_cluster_3,\n",
        "           df_prediction_scores_h4_cluster_4,\n",
        "           df_prediction_scores_h4_cluster_5,\n",
        "           df_prediction_scores_h4_cluster_6])"
      ],
      "metadata": {
        "id": "hf_ohs6eaBll"
      },
      "execution_count": null,
      "outputs": []
    }
  ]
}