{
  "nbformat": 4,
  "nbformat_minor": 0,
  "metadata": {
    "colab": {
      "provenance": [],
      "authorship_tag": "ABX9TyOZq3u+GS3o+lJXPIBPqeoa",
      "include_colab_link": true
    },
    "kernelspec": {
      "name": "python3",
      "display_name": "Python 3"
    },
    "language_info": {
      "name": "python"
    }
  },
  "cells": [
    {
      "cell_type": "markdown",
      "metadata": {
        "id": "view-in-github",
        "colab_type": "text"
      },
      "source": [
        "<a href=\"https://colab.research.google.com/github/douglasmmachado/MedicineConsumption/blob/master/notebooks/Unified_Approach.ipynb\" target=\"_parent\"><img src=\"https://colab.research.google.com/assets/colab-badge.svg\" alt=\"Open In Colab\"/></a>"
      ]
    },
    {
      "cell_type": "code",
      "execution_count": 16,
      "metadata": {
        "id": "MuIdFMt9eNpt",
        "colab": {
          "base_uri": "https://localhost:8080/"
        },
        "outputId": "a9871ee0-021d-45f7-df04-7330fe63560d"
      },
      "outputs": [
        {
          "output_type": "stream",
          "name": "stderr",
          "text": [
            "<ipython-input-16-4890ce5786f3>:5: DtypeWarning: Columns (1,4) have mixed types. Specify dtype option on import or set low_memory=False.\n",
            "  df = pd.read_csv(raw_data_url, index_col=0)\n"
          ]
        },
        {
          "output_type": "stream",
          "name": "stdout",
          "text": [
            "<class 'pandas.core.frame.DataFrame'>\n",
            "Int64Index: 75684 entries, 0 to 75691\n",
            "Data columns (total 21 columns):\n",
            " #   Column            Non-Null Count  Dtype         \n",
            "---  ------            --------------  -----         \n",
            " 0   ID_REF            75684 non-null  string        \n",
            " 1   ID_SITE_RATTACHE  75684 non-null  string        \n",
            " 2   CODE_ATC          75684 non-null  string        \n",
            " 3   HOSPI_CODE_UCD    75684 non-null  string        \n",
            " 4   DATE_MOUV         75684 non-null  datetime64[ns]\n",
            " 5   N_UFS             75684 non-null  int64         \n",
            " 6   QUANTITY          75684 non-null  float64       \n",
            " 7   WEEK              75684 non-null  float64       \n",
            " 8   MONTH             75684 non-null  int64         \n",
            " 9   YEAR              75684 non-null  float64       \n",
            " 10  N_ETB             75684 non-null  int64         \n",
            " 11  POPULATION        75684 non-null  float64       \n",
            " 12  P_MEDICAL         75684 non-null  int64         \n",
            " 13  PN_MEDICAL        75684 non-null  int64         \n",
            " 14  LIT_HC            75684 non-null  float64       \n",
            " 15  LIT_HP            75684 non-null  float64       \n",
            " 16  SEJ_MCO           75684 non-null  int64         \n",
            " 17  SEJ_HAD           75684 non-null  int64         \n",
            " 18  SEJ_PSY           75684 non-null  int64         \n",
            " 19  SEJ_SSR           75684 non-null  int64         \n",
            " 20  SEJ_SLD           75684 non-null  int64         \n",
            "dtypes: datetime64[ns](1), float64(6), int64(10), string(4)\n",
            "memory usage: 12.7 MB\n"
          ]
        }
      ],
      "source": [
        "import pandas as pd\n",
        "import numpy as np\n",
        "\n",
        "raw_data_url =\"https://raw.githubusercontent.com/douglasmmachado/ExploratoryDataAnalysis/master/datasets/project_database.csv\"\n",
        "df = pd.read_csv(raw_data_url, index_col=0)\n",
        "\n",
        "df = df.drop_duplicates()\n",
        "df = df.dropna()\n",
        "\n",
        "categorical_features = ['ID_REF', 'ID_SITE_RATTACHE', 'CODE_ATC', 'HOSPI_CODE_UCD']\n",
        "date_features = ['DATE_MOUV', 'WEEK', 'MONTH', 'YEAR']\n",
        "numerical_features = ['N_UFS', 'QUANTITY', 'N_ETB', 'POPULATION', 'P_MEDICAL', 'PN_MEDICAL', 'LIT_HC', 'LIT_HP', 'SEJ_MCO', 'SEJ_HAD', 'SEJ_PSY', 'SEJ_SSR']\n",
        "\n",
        "for column in categorical_features:\n",
        "  df[column] = df[column].astype('string')\n",
        "\n",
        "df['DATE_MOUV'] = pd.to_datetime(df['DATE_MOUV'],\n",
        "               format='%Y-%m-%d')  # Changed the type of date too\n",
        "df.info()"
      ]
    },
    {
      "cell_type": "code",
      "source": [
        "def display_unique(df, features):\n",
        "  for column in features:\n",
        "    print(f'\\n Unique values of feature: {column}')\n",
        "    print(f'Number of unique values: {len(df[column].unique())}')\n",
        "    print(df[column].unique())\n",
        "    print('\\n')"
      ],
      "metadata": {
        "id": "Bs3ViLOUlGMt"
      },
      "execution_count": 17,
      "outputs": []
    },
    {
      "cell_type": "code",
      "source": [
        "display_unique(df, categorical_features)"
      ],
      "metadata": {
        "colab": {
          "base_uri": "https://localhost:8080/"
        },
        "id": "twvIK6-_lrpw",
        "outputId": "8a645434-9052-4b98-b105-9816e6366b62"
      },
      "execution_count": 18,
      "outputs": [
        {
          "output_type": "stream",
          "name": "stdout",
          "text": [
            "\n",
            " Unique values of feature: ID_REF\n",
            "Number of unique values: 84\n",
            "<StringArray>\n",
            "[ '960148',  '893880',  '960491',  '800851',  '820070',  '800852',  '890228',\n",
            "  '830701',  '890264',  '830303',  '891086',  '840051',  '841268',  '830631',\n",
            "  '960229',  '890900',  '960388',  '960687',  '830302',  '822707',  '810359',\n",
            " '9199612', '9122503', '9387549', '9276152', '9266923', '9276169', '9206536',\n",
            " '9083714', '9272958', '9119122', '9274584', '9220364', '9373613', '9207576',\n",
            " '9382670', '9269778', '9250856', '9205212', '9123520', '9208831', '9302263',\n",
            "  '503129',  '507146',  '503386',  '525441',  '502400',  '525443',  '502369',\n",
            "  '504394',  '503182',  '504200',  '509929',  '507071',  '506197',  '504495',\n",
            "  '525057',  '503095',  '502829',  '503184',  '504403',  '502374',  '501463',\n",
            "    '2463',    '5268',   '20395',    '7047',    '8704',    '7046',    '9490',\n",
            "    '3937',    '5186',   '20677',   '20420',    '8927',   '20845',    '2431',\n",
            "    '5589',    '5066',    '5671',    '5193',    '2612',    '6180',   '21099']\n",
            "Length: 84, dtype: string\n",
            "\n",
            "\n",
            "\n",
            " Unique values of feature: ID_SITE_RATTACHE\n",
            "Number of unique values: 4\n",
            "<StringArray>\n",
            "['HOSPI_1', 'HOSPI_2', 'HOSPI_3', 'HOSPI_4']\n",
            "Length: 4, dtype: string\n",
            "\n",
            "\n",
            "\n",
            " Unique values of feature: CODE_ATC\n",
            "Number of unique values: 18\n",
            "<StringArray>\n",
            "['N02BE01', 'A12BA01', 'B05XA03', 'B01AB05', 'B01AC06', 'N05BA04', 'N02AX02',\n",
            " 'N05CF01', 'R03AC02', 'H02AB06', 'A03AX12', 'N05BA12', 'B05XA09', 'M03BX01',\n",
            " 'C01CA03', 'N05CF02', 'C03CA01', 'J01CR05']\n",
            "Length: 18, dtype: string\n",
            "\n",
            "\n",
            "\n",
            " Unique values of feature: HOSPI_CODE_UCD\n",
            "Number of unique values: 21\n",
            "<StringArray>\n",
            "['3400891996128', '3400891225037', '3400893875490', '3400892761527',\n",
            " '3400892669236', '3400892761695', '3400892065366', '3400890837149',\n",
            " '3400892729589', '3400891191226', '3400892745848', '3400892203645',\n",
            " '3400893736135', '3400892075761', '3400893826706', '3400892697789',\n",
            " '3400892508566', '3400892052120', '3400891235203', '3400892088310',\n",
            " '3400893022634']\n",
            "Length: 21, dtype: string\n",
            "\n",
            "\n"
          ]
        }
      ]
    }
  ]
}